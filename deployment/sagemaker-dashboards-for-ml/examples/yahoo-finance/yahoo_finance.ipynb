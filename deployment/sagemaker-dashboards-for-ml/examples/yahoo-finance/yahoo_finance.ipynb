{
 "cells": [
  {
   "cell_type": "markdown",
   "metadata": {},
   "source": [
    "# Dashboard Using Yahoo! Finance Data\n",
    "\n",
    "In this example, we demonstrate how to deploy a simple self-contained dashboard.\n",
    "\n",
    "We deploy an example with [Yahoo! Finance](https://finance.yahoo.com/) for data, but the same method can be used to deploy any kind of self-contained dashboard. If you're looking to use the dashboard to interact with any kind of machine learning model, check out the [SageMaker Dashboards for ML](https://github.com/awslabs/sagemaker-dashboards-for-ml) example instead.\n",
    "\n",
    "We first import all of the required Python packages for this notebook."
   ]
  },
  {
   "cell_type": "code",
   "execution_count": 7,
   "metadata": {},
   "outputs": [],
   "source": [
    "import boto3\n",
    "from dotenv import load_dotenv\n",
    "import os\n",
    "from pathlib import Path\n",
    "import sagemaker\n",
    "import warnings\n",
    "\n",
    "import utils"
   ]
  },
  {
   "cell_type": "markdown",
   "metadata": {},
   "source": [
    "Our AWS CloudFormation Stack created a number of other resources that we'll need to refer to later on in this notebook (e.g. [Amazon S3 bucket](https://docs.aws.amazon.com/AmazonS3/latest/dev/UsingBucket.html), [Amazon ECR Repository](https://docs.aws.amazon.com/AmazonECR/latest/userguide/Repositories.html), [Amazon ECS Cluster](https://docs.aws.amazon.com/AmazonECS/latest/developerguide/clusters.html), etc). We have access to this information in a `.env` file. Using the [`dotenv`](https://pypi.org/project/python-dotenv/) Python package, the contents of `.env` are loaded as environment variables, and we can access the AWS resource identifiers later on in the notebook using `os.environ`: e.g. `os.environ['DASHBOARD_ECR_REPOSITORY']`."
   ]
  },
  {
   "cell_type": "code",
   "execution_count": 8,
   "metadata": {},
   "outputs": [],
   "source": [
    "dotenv_filepath = Path('../../.env').resolve()\n",
    "if dotenv_filepath.exists():\n",
    "    load_dotenv()"
   ]
  },
  {
   "cell_type": "markdown",
   "metadata": {},
   "source": [
    "## Dashboard Development"
   ]
  },
  {
   "cell_type": "markdown",
   "metadata": {},
   "source": [
    "Source code for the example dashboard can be found at `./dashboard/src/app.py`. We use [Streamlit](https://www.streamlit.io/) in this example because of its simplicity, flexibility and integrations with a wide variety of visualisation tools such as [Altair](https://altair-viz.github.io/), [Bokeh](https://docs.bokeh.org/en/latest/index.html) and [Plotly](https://plotly.com/). We could start the dashboard server from the `dashboard` Conda environment, but this would lead to differences between development and deployment environments which should be avoided. Instead, we use Docker containers from the beginning to simplify the deployment later on. Our Dockerfile is defined at `./dashboard/Dockerfile` and has an `ENTRYPOINT` set to `streamlit run src/app.py` to start the dashboard server within the container. We start off by building the Docker image."
   ]
  },
  {
   "cell_type": "code",
   "execution_count": 9,
   "metadata": {},
   "outputs": [],
   "source": [
    "image_name = 'dashboard'"
   ]
  },
  {
   "cell_type": "code",
   "execution_count": 10,
   "metadata": {
    "scrolled": true
   },
   "outputs": [
    {
     "name": "stdout",
     "output_type": "stream",
     "text": [
      "Sending build context to Docker daemon  22.02kB\n",
      "Step 1/8 : FROM python:3.7.4-slim-stretch\n",
      " ---> fad2b9f06d3b\n",
      "Step 2/8 : WORKDIR /usr/src/app\n",
      " ---> Running in 2aff80399ff7\n",
      "Removing intermediate container 2aff80399ff7\n",
      " ---> 3394ea61ab9a\n",
      "Step 3/8 : COPY requirements.txt requirements.txt\n",
      " ---> 2993269518f3\n",
      "Step 4/8 : COPY script/eda.py src/app.py\n",
      " ---> fe90cbda3048\n",
      "Step 5/8 : COPY script/config.py src/config.py\n",
      " ---> d18598f80284\n",
      "Step 6/8 : RUN pip install -r requirements.txt\n",
      " ---> Running in f5117b79986b\n",
      "Collecting certifi==2020.12.5\n",
      "  Downloading https://files.pythonhosted.org/packages/5e/a0/5f06e1e1d463903cf0c0eebeb751791119ed7a4b3737fdc9a77f1cdfb51f/certifi-2020.12.5-py2.py3-none-any.whl (147kB)\n",
      "Collecting chardet==4.0.0\n",
      "  Downloading https://files.pythonhosted.org/packages/19/c7/fa589626997dd07bd87d9269342ccb74b1720384a4d739a1872bd84fbe68/chardet-4.0.0-py2.py3-none-any.whl (178kB)\n",
      "Collecting idna==2.10\n",
      "  Downloading https://files.pythonhosted.org/packages/a2/38/928ddce2273eaa564f6f50de919327bf3a00f091b5baba8dfa9460f3a8a8/idna-2.10-py2.py3-none-any.whl (58kB)\n",
      "Collecting lxml==4.6.3\n",
      "  Downloading https://files.pythonhosted.org/packages/cf/4d/6537313bf58fe22b508f08cf3eb86b29b6f9edf68e00454224539421073b/lxml-4.6.3-cp37-cp37m-manylinux1_x86_64.whl (5.5MB)\n",
      "Collecting multitasking==0.0.9\n",
      "  Downloading https://files.pythonhosted.org/packages/69/e7/e9f1661c28f7b87abfa08cb0e8f51dad2240a9f4f741f02ea839835e6d18/multitasking-0.0.9.tar.gz\n",
      "Collecting numpy==1.19.5\n",
      "  Downloading https://files.pythonhosted.org/packages/08/d6/a6aaa29fea945bc6c61d11f6e0697b325ff7446de5ffd62c2fa02f627048/numpy-1.19.5-cp37-cp37m-manylinux2010_x86_64.whl (14.8MB)\n",
      "Collecting pandas-datareader==0.9.0\n",
      "  Downloading https://files.pythonhosted.org/packages/22/f1/a02eea03628865c3d4c29849cda8c8a73f43358048aee47d79dfbfa6c6c3/pandas_datareader-0.9.0-py3-none-any.whl (107kB)\n",
      "Collecting pandas==1.1.5\n",
      "  Downloading https://files.pythonhosted.org/packages/fd/70/e8eee0cbddf926bf51958c7d6a86bc69167c300fa2ba8e592330a2377d1b/pandas-1.1.5-cp37-cp37m-manylinux1_x86_64.whl (9.5MB)\n",
      "Collecting python-dateutil==2.8.1\n",
      "  Downloading https://files.pythonhosted.org/packages/d4/70/d60450c3dd48ef87586924207ae8907090de0b306af2bce5d134d78615cb/python_dateutil-2.8.1-py2.py3-none-any.whl (227kB)\n",
      "Collecting pytz==2021.1\n",
      "  Downloading https://files.pythonhosted.org/packages/70/94/784178ca5dd892a98f113cdd923372024dc04b8d40abe77ca76b5fb90ca6/pytz-2021.1-py2.py3-none-any.whl (510kB)\n",
      "Collecting requests==2.25.1\n",
      "  Downloading https://files.pythonhosted.org/packages/29/c1/24814557f1d22c56d50280771a17307e6bf87b70727d975fd6b2ce6b014a/requests-2.25.1-py2.py3-none-any.whl (61kB)\n",
      "Collecting six==1.15.0\n",
      "  Downloading https://files.pythonhosted.org/packages/ee/ff/48bde5c0f013094d729fe4b0316ba2a24774b3ff1c52d924a8a4cb04078a/six-1.15.0-py2.py3-none-any.whl\n",
      "Collecting urllib3==1.26.4\n",
      "  Downloading https://files.pythonhosted.org/packages/09/c6/d3e3abe5b4f4f16cf0dfc9240ab7ce10c2baa0e268989a4e3ec19e90c84e/urllib3-1.26.4-py2.py3-none-any.whl (153kB)\n",
      "Collecting yfinance==0.1.59\n",
      "  Downloading https://files.pythonhosted.org/packages/a7/ee/315752b9ef281ba83c62aa7ec2e2074f85223da6e7e74efb4d3e11c0f510/yfinance-0.1.59.tar.gz\n",
      "Collecting streamlit==0.78.0\n",
      "  Downloading https://files.pythonhosted.org/packages/5f/3c/f0a97b684a49bd043bef9f8b8f4092b8a25bee9ad9a3f5e121a7161ded8f/streamlit-0.78.0-py2.py3-none-any.whl (7.5MB)\n",
      "Collecting altair==4.1.0\n",
      "  Downloading https://files.pythonhosted.org/packages/01/55/0bb2226e34f21fa549c3f4557b4f154a5632f61132a969da17c95ca8eab9/altair-4.1.0-py3-none-any.whl (727kB)\n",
      "Collecting pyathena==2.2.0\n",
      "  Downloading https://files.pythonhosted.org/packages/dc/a6/850e06ec1c964c80cdcba15650ac00ddd7564e65725636cf2cf3bf27ea9c/PyAthena-2.2.0-py3-none-any.whl\n",
      "Collecting rich==9.13.0\n",
      "  Downloading https://files.pythonhosted.org/packages/15/e3/7929cc640f14bffc835bba5efb2f9177007e536429d9fe145765e5f221c4/rich-9.13.0-py3-none-any.whl (197kB)\n",
      "Collecting protobuf==3.15.5\n",
      "  Downloading https://files.pythonhosted.org/packages/ca/32/06ac05342b5b77aa5ad4f0ffd5df32eea9092cd8db55f9472d55acab92e2/protobuf-3.15.5-cp37-cp37m-manylinux1_x86_64.whl (1.0MB)\n",
      "Collecting xlsxwriter==1.2.8\n",
      "  Downloading https://files.pythonhosted.org/packages/00/1f/2092a81056d36c1b6651a645aa84c1f76bcee03103072d4fe1cb58501d69/XlsxWriter-1.2.8-py2.py3-none-any.whl (141kB)\n",
      "Collecting cachetools>=4.0\n",
      "  Downloading https://files.pythonhosted.org/packages/bb/72/8df2e0dc991f1a1d2c6869404e7622e8ee50d80bff357dbb57c3df70305b/cachetools-4.2.1-py3-none-any.whl\n",
      "Collecting toml\n",
      "  Downloading https://files.pythonhosted.org/packages/44/6f/7120676b6d73228c96e17f1f794d8ab046fc910d781c8d151120c3f1569e/toml-0.10.2-py2.py3-none-any.whl\n",
      "Collecting blinker\n",
      "  Downloading https://files.pythonhosted.org/packages/1b/51/e2a9f3b757eb802f61dc1f2b09c8c99f6eb01cf06416c0671253536517b6/blinker-1.4.tar.gz (111kB)\n",
      "Collecting watchdog; platform_system != \"Darwin\"\n",
      "  Downloading https://files.pythonhosted.org/packages/c6/ba/a36ca5b4e75649a002f06531862467b3eb5c768caa23d6d88b921fe238d8/watchdog-2.0.2-py3-none-manylinux2014_x86_64.whl (74kB)\n",
      "Collecting pyarrow; python_version < \"3.9\"\n",
      "  Downloading https://files.pythonhosted.org/packages/fc/61/814f4c8d2cd4d51dfd80a9c4ea14b8fd09e37cb0f6962c1f04d504a02e03/pyarrow-3.0.0-cp37-cp37m-manylinux2014_x86_64.whl (20.7MB)\n",
      "Collecting astor\n",
      "  Downloading https://files.pythonhosted.org/packages/c3/88/97eef84f48fa04fbd6750e62dcceafba6c63c81b7ac1420856c8dcc0a3f9/astor-0.8.1-py2.py3-none-any.whl\n",
      "Collecting pydeck>=0.1.dev5\n",
      "  Downloading https://files.pythonhosted.org/packages/1c/3f/8f04ae0c22d82ec7bec7fcc03270a142f637e362bbd285f7daeeda24fbef/pydeck-0.6.1-py2.py3-none-any.whl (4.6MB)\n",
      "Collecting pillow>=6.2.0\n",
      "  Downloading https://files.pythonhosted.org/packages/1f/6d/b719ae8e21660a6a962636896dc4b7d657ef451a3ab941516401846ac5cb/Pillow-8.1.2-cp37-cp37m-manylinux1_x86_64.whl (2.2MB)\n",
      "Collecting validators\n",
      "  Downloading https://files.pythonhosted.org/packages/db/2f/7fed3ee94ad665ad2c1de87f858f10a7785251ff75b4fd47987888d07ef1/validators-0.18.2-py3-none-any.whl\n",
      "Collecting packaging\n",
      "  Downloading https://files.pythonhosted.org/packages/3e/89/7ea760b4daa42653ece2380531c90f64788d979110a2ab51049d92f408af/packaging-20.9-py2.py3-none-any.whl (40kB)\n",
      "Collecting tornado>=5.0\n",
      "  Downloading https://files.pythonhosted.org/packages/91/a8/9c5902233fa3c2e6a889cbd164333ddda5009669f494e3fadbeee2c03af5/tornado-6.1-cp37-cp37m-manylinux2010_x86_64.whl (428kB)\n",
      "Collecting click>=7.0\n",
      "  Downloading https://files.pythonhosted.org/packages/d2/3d/fa76db83bf75c4f8d338c2fd15c8d33fdd7ad23a9b5e57eb6c5de26b430e/click-7.1.2-py2.py3-none-any.whl (82kB)\n",
      "Collecting tzlocal\n",
      "  Downloading https://files.pythonhosted.org/packages/5d/94/d47b0fd5988e6b7059de05720a646a2930920fff247a826f61674d436ba4/tzlocal-2.1-py2.py3-none-any.whl\n",
      "Collecting base58\n",
      "  Downloading https://files.pythonhosted.org/packages/b8/a1/d9f565e9910c09fd325dc638765e8843a19fa696275c16cc08cf3b0a3c25/base58-2.1.0-py3-none-any.whl\n",
      "Collecting gitpython\n",
      "  Downloading https://files.pythonhosted.org/packages/a6/99/98019716955ba243657daedd1de8f3a88ca1f5b75057c38e959db22fb87b/GitPython-3.1.14-py3-none-any.whl (159kB)\n",
      "Collecting entrypoints\n",
      "  Downloading https://files.pythonhosted.org/packages/ac/c6/44694103f8c221443ee6b0041f69e2740d89a25641e62fb4f2ee568f2f9c/entrypoints-0.3-py2.py3-none-any.whl\n",
      "Collecting toolz\n",
      "  Downloading https://files.pythonhosted.org/packages/12/f5/537e55f8ba664ff2a26f26913010fb0fcb98b6bbadc6158af888184fd0b7/toolz-0.11.1-py3-none-any.whl (55kB)\n",
      "Collecting jinja2\n",
      "  Downloading https://files.pythonhosted.org/packages/7e/c2/1eece8c95ddbc9b1aeb64f5783a9e07a286de42191b7204d67b7496ddf35/Jinja2-2.11.3-py2.py3-none-any.whl (125kB)\n",
      "Collecting jsonschema\n",
      "  Downloading https://files.pythonhosted.org/packages/c5/8f/51e89ce52a085483359217bc72cdbf6e75ee595d5b1d4b5ade40c7e018b8/jsonschema-3.2.0-py2.py3-none-any.whl (56kB)\n",
      "Collecting tenacity>=4.1.0\n",
      "  Downloading https://files.pythonhosted.org/packages/41/ee/d6eddff86161c6a3a1753af4a66b06cbc508d3b77ca4698cd0374cd66531/tenacity-7.0.0-py2.py3-none-any.whl\n",
      "Collecting boto3>=1.4.4\n",
      "  Downloading https://files.pythonhosted.org/packages/f2/bd/3f9cc87a8faa561903644ec6ef7e7e408ca3640e77c5944124ad6adbaecd/boto3-1.17.39-py2.py3-none-any.whl (131kB)\n"
     ]
    },
    {
     "name": "stdout",
     "output_type": "stream",
     "text": [
      "Collecting botocore>=1.5.52\n",
      "  Downloading https://files.pythonhosted.org/packages/72/ad/abdc982cb695a20764df007a2d7cb0ac8964c9591fd014006e40334e4a74/botocore-1.20.39-py2.py3-none-any.whl (7.3MB)\n",
      "Collecting pygments<3.0.0,>=2.6.0\n",
      "  Downloading https://files.pythonhosted.org/packages/3a/80/a52c0a7c5939737c6dca75a831e89658ecb6f590fb7752ac777d221937b9/Pygments-2.8.1-py3-none-any.whl (983kB)\n",
      "Collecting commonmark<0.10.0,>=0.9.0\n",
      "  Downloading https://files.pythonhosted.org/packages/b1/92/dfd892312d822f36c55366118b95d914e5f16de11044a27cf10a7d71bbbf/commonmark-0.9.1-py2.py3-none-any.whl (51kB)\n",
      "Collecting typing-extensions<4.0.0,>=3.7.4\n",
      "  Downloading https://files.pythonhosted.org/packages/60/7a/e881b5abb54db0e6e671ab088d079c57ce54e8a01a3ca443f561ccadb37e/typing_extensions-3.7.4.3-py3-none-any.whl\n",
      "Collecting colorama<0.5.0,>=0.4.0\n",
      "  Downloading https://files.pythonhosted.org/packages/44/98/5b86278fbbf250d239ae0ecb724f8572af1c91f4a11edf4d36a206189440/colorama-0.4.4-py2.py3-none-any.whl\n",
      "Collecting ipykernel>=5.1.2; python_version >= \"3.4\"\n",
      "  Downloading https://files.pythonhosted.org/packages/56/95/3a670c8b2c2370bd8631c313f42e60983b3113ffec4035940592252bd6d5/ipykernel-5.5.0-py3-none-any.whl (120kB)\n",
      "Collecting ipywidgets>=7.0.0\n",
      "  Downloading https://files.pythonhosted.org/packages/11/53/084940a83a8158364e630a664a30b03068c25ab75243224d6b488800d43a/ipywidgets-7.6.3-py2.py3-none-any.whl (121kB)\n",
      "Collecting traitlets>=4.3.2\n",
      "  Downloading https://files.pythonhosted.org/packages/f6/7d/3ecb0ebd0ce8dcdfa7bd47ab85c1d4a521e6770ef283d0824f5804994dfe/traitlets-5.0.5-py3-none-any.whl (100kB)\n",
      "Collecting decorator>=3.4.0\n",
      "  Downloading https://files.pythonhosted.org/packages/ed/1b/72a1821152d07cf1d8b6fce298aeb06a7eb90f4d6d41acec9861e7cc6df0/decorator-4.4.2-py2.py3-none-any.whl\n",
      "Collecting pyparsing>=2.0.2\n",
      "  Downloading https://files.pythonhosted.org/packages/8a/bb/488841f56197b13700afd5658fc279a2025a39e22449b7cf29864669b15d/pyparsing-2.4.7-py2.py3-none-any.whl (67kB)\n",
      "Collecting gitdb<5,>=4.0.1\n",
      "  Downloading https://files.pythonhosted.org/packages/ea/e8/f414d1a4f0bbc668ed441f74f44c116d9816833a48bf81d22b697090dba8/gitdb-4.0.7-py3-none-any.whl (63kB)\n",
      "Collecting MarkupSafe>=0.23\n",
      "  Downloading https://files.pythonhosted.org/packages/c2/37/2e4def8ce3739a258998215df907f5815ecd1af71e62147f5eea2d12d4e8/MarkupSafe-1.1.1-cp37-cp37m-manylinux2010_x86_64.whl\n",
      "Collecting importlib-metadata; python_version < \"3.8\"\n",
      "  Downloading https://files.pythonhosted.org/packages/d4/61/5a799932038cd33f50799c8b539fc58c747cb5ed8082b5dcaa4d90c1cd1a/importlib_metadata-3.8.1-py3-none-any.whl\n",
      "Collecting attrs>=17.4.0\n",
      "  Downloading https://files.pythonhosted.org/packages/c3/aa/cb45262569fcc047bf070b5de61813724d6726db83259222cd7b4c79821a/attrs-20.3.0-py2.py3-none-any.whl (49kB)\n",
      "Requirement already satisfied: setuptools in /usr/local/lib/python3.7/site-packages (from jsonschema->altair==4.1.0->-r requirements.txt (line 46)) (41.4.0)\n",
      "Collecting pyrsistent>=0.14.0\n",
      "  Downloading https://files.pythonhosted.org/packages/4d/70/fd441df751ba8b620e03fd2d2d9ca902103119616f0f6cc42e6405035062/pyrsistent-0.17.3.tar.gz (106kB)\n",
      "Collecting s3transfer<0.4.0,>=0.3.0\n",
      "  Downloading https://files.pythonhosted.org/packages/98/14/0b4be62b65c52d6d1c442f24e02d2a9889a73d3c352002e14c70f84a679f/s3transfer-0.3.6-py2.py3-none-any.whl (73kB)\n",
      "Collecting jmespath<1.0.0,>=0.7.1\n",
      "  Downloading https://files.pythonhosted.org/packages/07/cb/5f001272b6faeb23c1c9e0acc04d48eaaf5c862c17709d20e3469c6e0139/jmespath-0.10.0-py2.py3-none-any.whl\n",
      "Collecting jupyter-client\n",
      "  Downloading https://files.pythonhosted.org/packages/77/e8/c3cf72a32a697256608d5fa96360c431adec6e1c6709ba7f13f99ff5ee04/jupyter_client-6.1.12-py3-none-any.whl (112kB)\n",
      "Collecting ipython>=5.0.0\n",
      "  Downloading https://files.pythonhosted.org/packages/c9/b1/82cbe2b856386f44f37fdae54d9b425813bd86fe33385c9d658d64826098/ipython-7.22.0-py3-none-any.whl (785kB)\n",
      "Collecting widgetsnbextension~=3.5.0\n",
      "  Downloading https://files.pythonhosted.org/packages/6c/7b/7ac231c20d2d33c445eaacf8a433f4e22c60677eb9776c7c5262d7ddee2d/widgetsnbextension-3.5.1-py2.py3-none-any.whl (2.2MB)\n",
      "Collecting nbformat>=4.2.0\n",
      "  Downloading https://files.pythonhosted.org/packages/13/1d/59cbc5a6b627ba3b4c0ec5ccc82a9002e58b324e2620a4929b81f1f8d309/nbformat-5.1.2-py3-none-any.whl (113kB)\n",
      "Collecting jupyterlab-widgets>=1.0.0; python_version >= \"3.6\"\n",
      "  Downloading https://files.pythonhosted.org/packages/18/b5/3473d275e3b2359efdf5768e9df95537308b93a31ad94fa92814ac565826/jupyterlab_widgets-1.0.0-py3-none-any.whl (243kB)\n",
      "Collecting ipython-genutils\n",
      "  Downloading https://files.pythonhosted.org/packages/fa/bc/9bd3b5c2b4774d5f33b2d544f1460be9df7df2fe42f352135381c347c69a/ipython_genutils-0.2.0-py2.py3-none-any.whl\n",
      "Collecting smmap<5,>=3.0.1\n",
      "  Downloading https://files.pythonhosted.org/packages/68/ee/d540eb5e5996eb81c26ceffac6ee49041d473bc5125f2aa995cf51ec1cf1/smmap-4.0.0-py2.py3-none-any.whl\n",
      "Collecting zipp>=0.5\n",
      "  Downloading https://files.pythonhosted.org/packages/0f/8c/715c54e9e34c0c4820f616a913a7de3337d0cd79074dd1bed4dd840f16ae/zipp-3.4.1-py3-none-any.whl\n",
      "Collecting jupyter-core>=4.6.0\n",
      "  Downloading https://files.pythonhosted.org/packages/53/40/5af36bffa0af3ac71d3a6fc6709de10e4f6ff7c01745b8bc4715372189c9/jupyter_core-4.7.1-py3-none-any.whl (82kB)\n",
      "Collecting pyzmq>=13\n",
      "  Downloading https://files.pythonhosted.org/packages/85/1b/55859190556d85f39f2c1e5b10430d8d6187745e587e487cb1dc746d8bf2/pyzmq-22.0.3-cp37-cp37m-manylinux1_x86_64.whl (1.1MB)\n",
      "Collecting backcall\n",
      "  Downloading https://files.pythonhosted.org/packages/4c/1c/ff6546b6c12603d8dd1070aa3c3d273ad4c07f5771689a7b69a550e8c951/backcall-0.2.0-py2.py3-none-any.whl\n",
      "Collecting pexpect>4.3; sys_platform != \"win32\"\n",
      "  Downloading https://files.pythonhosted.org/packages/39/7b/88dbb785881c28a102619d46423cb853b46dbccc70d3ac362d99773a78ce/pexpect-4.8.0-py2.py3-none-any.whl (59kB)\n",
      "Collecting jedi>=0.16\n",
      "  Downloading https://files.pythonhosted.org/packages/f9/36/7aa67ae2663025b49e8426ead0bad983fee1b73f472536e9790655da0277/jedi-0.18.0-py2.py3-none-any.whl (1.4MB)\n",
      "Collecting pickleshare\n",
      "  Downloading https://files.pythonhosted.org/packages/9a/41/220f49aaea88bc6fa6cba8d05ecf24676326156c23b991e80b3f2fc24c77/pickleshare-0.7.5-py2.py3-none-any.whl\n",
      "Collecting prompt-toolkit!=3.0.0,!=3.0.1,<3.1.0,>=2.0.0\n",
      "  Downloading https://files.pythonhosted.org/packages/eb/e6/4b4ca4fa94462d4560ba2f4e62e62108ab07be2e16a92e594e43b12d3300/prompt_toolkit-3.0.18-py3-none-any.whl (367kB)\n",
      "Collecting notebook>=4.4.1\n",
      "  Downloading https://files.pythonhosted.org/packages/5d/86/8f951abc6ac651a75a059d2b77fe99fa5df80bf4dc4700c126a0bee486b8/notebook-6.3.0-py3-none-any.whl (9.5MB)\n",
      "Collecting ptyprocess>=0.5\n",
      "  Downloading https://files.pythonhosted.org/packages/22/a6/858897256d0deac81a172289110f31629fc4cee19b6f01283303e18c8db3/ptyprocess-0.7.0-py2.py3-none-any.whl\n",
      "Collecting parso<0.9.0,>=0.8.0\n",
      "  Downloading https://files.pythonhosted.org/packages/ad/f0/ef6bdb1eba2dbfda60c985cd8d7b47b6ed8c6a1f5d212f39ff50b64f172c/parso-0.8.1-py2.py3-none-any.whl (93kB)\n",
      "Collecting wcwidth\n",
      "  Downloading https://files.pythonhosted.org/packages/59/7c/e39aca596badaf1b78e8f547c807b04dae603a433d3e7a7e04d67f2ef3e5/wcwidth-0.2.5-py2.py3-none-any.whl\n",
      "Collecting terminado>=0.8.3\n",
      "  Downloading https://files.pythonhosted.org/packages/c9/cf/55051993a27eca8df8ff7362a0c98dded6fc6f66b6e322513fde3d195cda/terminado-0.9.3-py3-none-any.whl\n",
      "Collecting argon2-cffi\n",
      "  Downloading https://files.pythonhosted.org/packages/e0/d7/5da06217807106ed6d7b4f5ccb8ec5e3f9ec969217faad4b5d1af0b55101/argon2_cffi-20.1.0-cp35-abi3-manylinux1_x86_64.whl (97kB)\n",
      "Collecting Send2Trash>=1.5.0\n",
      "  Downloading https://files.pythonhosted.org/packages/49/46/c3dc27481d1cc57b9385aff41c474ceb7714f7935b1247194adae45db714/Send2Trash-1.5.0-py3-none-any.whl\n",
      "Collecting nbconvert\n",
      "  Downloading https://files.pythonhosted.org/packages/13/2f/acbe7006548f3914456ee47f97a2033b1b2f3daf921b12ac94105d87c163/nbconvert-6.0.7-py3-none-any.whl (552kB)\n",
      "Collecting prometheus-client\n",
      "  Downloading https://files.pythonhosted.org/packages/f4/7e/ef341c67ed43ad2e39633a35c28b77bc555f9572f4df4fee11c2b467db00/prometheus_client-0.9.0-py2.py3-none-any.whl (53kB)\n",
      "Collecting cffi>=1.0.0\n",
      "  Downloading https://files.pythonhosted.org/packages/97/2d/cd29c79f2eb1384577d0662f23c89d29621152f14bef8c6b25747785744b/cffi-1.14.5-cp37-cp37m-manylinux1_x86_64.whl (402kB)\n"
     ]
    },
    {
     "name": "stdout",
     "output_type": "stream",
     "text": [
      "Collecting testpath\n",
      "  Downloading https://files.pythonhosted.org/packages/1b/9e/1a170feaa54f22aeb5a5d16c9015e82234275a3c8ab630b552493f9cb8a9/testpath-0.4.4-py2.py3-none-any.whl (163kB)\n",
      "Collecting nbclient<0.6.0,>=0.5.0\n",
      "  Downloading https://files.pythonhosted.org/packages/22/a6/f3a01a5c1a0e72d1d064f33d4cd9c3a782010f48f48f47f256d0b438994a/nbclient-0.5.3-py3-none-any.whl (82kB)\n",
      "Collecting pandocfilters>=1.4.1\n",
      "  Downloading https://files.pythonhosted.org/packages/28/78/bd59a9adb72fa139b1c9c186e6f65aebee52375a747e4b6a6dcf0880956f/pandocfilters-1.4.3.tar.gz\n",
      "Collecting defusedxml\n",
      "  Downloading https://files.pythonhosted.org/packages/07/6c/aa3f2f849e01cb6a001cd8554a88d4c77c5c1a31c95bdf1cf9301e6d9ef4/defusedxml-0.7.1-py2.py3-none-any.whl\n",
      "Collecting bleach\n",
      "  Downloading https://files.pythonhosted.org/packages/f0/46/2bbd92086a4c6f051214cb48df6d9132b5f32c5e881d3f4991b16ec7e499/bleach-3.3.0-py2.py3-none-any.whl (283kB)\n",
      "Collecting mistune<2,>=0.8.1\n",
      "  Downloading https://files.pythonhosted.org/packages/09/ec/4b43dae793655b7d8a25f76119624350b4d65eb663459eb9603d7f1f0345/mistune-0.8.4-py2.py3-none-any.whl\n",
      "Collecting jupyterlab-pygments\n",
      "  Downloading https://files.pythonhosted.org/packages/a8/6f/c34288766797193b512c6508f5994b830fb06134fdc4ca8214daba0aa443/jupyterlab_pygments-0.1.2-py2.py3-none-any.whl\n",
      "Collecting pycparser\n",
      "  Downloading https://files.pythonhosted.org/packages/ae/e7/d9c3a176ca4b02024debf82342dab36efadfc5776f9c8db077e8f6e71821/pycparser-2.20-py2.py3-none-any.whl (112kB)\n",
      "Collecting nest-asyncio\n",
      "  Downloading https://files.pythonhosted.org/packages/52/e2/9b37da54e6e9094d2f558ae643d1954a0fa8215dfee4fa261f31c5439796/nest_asyncio-1.5.1-py3-none-any.whl\n",
      "Collecting async-generator\n",
      "  Downloading https://files.pythonhosted.org/packages/71/52/39d20e03abd0ac9159c162ec24b93fbcaa111e8400308f2465432495ca2b/async_generator-1.10-py3-none-any.whl\n",
      "Collecting webencodings\n",
      "  Downloading https://files.pythonhosted.org/packages/f4/24/2a3e3df732393fed8b3ebf2ec078f05546de641fe1b667ee316ec1dcf3b7/webencodings-0.5.1-py2.py3-none-any.whl\n",
      "Building wheels for collected packages: multitasking, yfinance, blinker, pyrsistent, pandocfilters\n",
      "  Building wheel for multitasking (setup.py): started\n",
      "  Building wheel for multitasking (setup.py): finished with status 'done'\n",
      "  Created wheel for multitasking: filename=multitasking-0.0.9-cp37-none-any.whl size=8368 sha256=706244e4eecc4f2d20564d245744ccf98b7104f0dc2a1ac83f338a4dedb1d740\n",
      "  Stored in directory: /root/.cache/pip/wheels/37/fa/73/d492849e319038eb4d986f5152e4b19ffb1bc0639da84d2677\n",
      "  Building wheel for yfinance (setup.py): started\n",
      "  Building wheel for yfinance (setup.py): finished with status 'done'\n",
      "  Created wheel for yfinance: filename=yfinance-0.1.59-py2.py3-none-any.whl size=23443 sha256=d3287a289edf94d741d2a7fc9dfed947d373a787a1f215f5cbfe371158a2c03d\n",
      "  Stored in directory: /root/.cache/pip/wheels/f8/2a/0f/4b5a86e1d52e451757eb6bc17fd899629f0925c777741b6d04\n",
      "  Building wheel for blinker (setup.py): started\n",
      "  Building wheel for blinker (setup.py): finished with status 'done'\n",
      "  Created wheel for blinker: filename=blinker-1.4-cp37-none-any.whl size=13450 sha256=cc8c0517a438155c5e52c861c12f75d09b95c4a01aaa5d146b899a5dd1f9c8dc\n",
      "  Stored in directory: /root/.cache/pip/wheels/92/a0/00/8690a57883956a301d91cf4ec999cc0b258b01e3f548f86e89\n",
      "  Building wheel for pyrsistent (setup.py): started\n",
      "  Building wheel for pyrsistent (setup.py): finished with status 'done'\n",
      "  Created wheel for pyrsistent: filename=pyrsistent-0.17.3-cp37-cp37m-linux_x86_64.whl size=55873 sha256=56c4a74e92c2d78580d8eb50a94bbdf83a59a90c5cb9c82e3c7d5b759874acdf\n",
      "  Stored in directory: /root/.cache/pip/wheels/f0/b8/de/b593ad311be4eb458499d100db081e453576032272398b7ddc\n",
      "  Building wheel for pandocfilters (setup.py): started\n",
      "  Building wheel for pandocfilters (setup.py): finished with status 'done'\n",
      "  Created wheel for pandocfilters: filename=pandocfilters-1.4.3-cp37-none-any.whl size=7991 sha256=d89b444ee9c29f850bb367e5e7967146e57d8a7a7d4a122c4c27202a97e6d439\n",
      "  Stored in directory: /root/.cache/pip/wheels/93/9a/79/b2c3567908fd6209e4674ca23d9fcf005aae5fe89148913727\n",
      "Successfully built multitasking yfinance blinker pyrsistent pandocfilters\n",
      "Installing collected packages: certifi, chardet, idna, lxml, multitasking, numpy, six, python-dateutil, pytz, pandas, urllib3, requests, pandas-datareader, yfinance, cachetools, toml, blinker, watchdog, protobuf, pyarrow, astor, ipython-genutils, traitlets, jupyter-core, pyzmq, tornado, jupyter-client, backcall, ptyprocess, pexpect, pygments, parso, jedi, decorator, pickleshare, wcwidth, prompt-toolkit, ipython, ipykernel, terminado, typing-extensions, zipp, importlib-metadata, attrs, pyrsistent, jsonschema, nbformat, MarkupSafe, jinja2, pycparser, cffi, argon2-cffi, Send2Trash, testpath, nest-asyncio, async-generator, nbclient, pandocfilters, defusedxml, pyparsing, packaging, webencodings, bleach, mistune, entrypoints, jupyterlab-pygments, nbconvert, prometheus-client, notebook, widgetsnbextension, jupyterlab-widgets, ipywidgets, pydeck, pillow, validators, toolz, altair, click, tzlocal, base58, smmap, gitdb, gitpython, streamlit, tenacity, jmespath, botocore, s3transfer, boto3, pyathena, commonmark, colorama, rich, xlsxwriter\n",
      "Successfully installed MarkupSafe-1.1.1 Send2Trash-1.5.0 altair-4.1.0 argon2-cffi-20.1.0 astor-0.8.1 async-generator-1.10 attrs-20.3.0 backcall-0.2.0 base58-2.1.0 bleach-3.3.0 blinker-1.4 boto3-1.17.39 botocore-1.20.39 cachetools-4.2.1 certifi-2020.12.5 cffi-1.14.5 chardet-4.0.0 click-7.1.2 colorama-0.4.4 commonmark-0.9.1 decorator-4.4.2 defusedxml-0.7.1 entrypoints-0.3 gitdb-4.0.7 gitpython-3.1.14 idna-2.10 importlib-metadata-3.8.1 ipykernel-5.5.0 ipython-7.22.0 ipython-genutils-0.2.0 ipywidgets-7.6.3 jedi-0.18.0 jinja2-2.11.3 jmespath-0.10.0 jsonschema-3.2.0 jupyter-client-6.1.12 jupyter-core-4.7.1 jupyterlab-pygments-0.1.2 jupyterlab-widgets-1.0.0 lxml-4.6.3 mistune-0.8.4 multitasking-0.0.9 nbclient-0.5.3 nbconvert-6.0.7 nbformat-5.1.2 nest-asyncio-1.5.1 notebook-6.3.0 numpy-1.19.5 packaging-20.9 pandas-1.1.5 pandas-datareader-0.9.0 pandocfilters-1.4.3 parso-0.8.1 pexpect-4.8.0 pickleshare-0.7.5 pillow-8.1.2 prometheus-client-0.9.0 prompt-toolkit-3.0.18 protobuf-3.15.5 ptyprocess-0.7.0 pyarrow-3.0.0 pyathena-2.2.0 pycparser-2.20 pydeck-0.6.1 pygments-2.8.1 pyparsing-2.4.7 pyrsistent-0.17.3 python-dateutil-2.8.1 pytz-2021.1 pyzmq-22.0.3 requests-2.25.1 rich-9.13.0 s3transfer-0.3.6 six-1.15.0 smmap-4.0.0 streamlit-0.78.0 tenacity-7.0.0 terminado-0.9.3 testpath-0.4.4 toml-0.10.2 toolz-0.11.1 tornado-6.1 traitlets-5.0.5 typing-extensions-3.7.4.3 tzlocal-2.1 urllib3-1.26.4 validators-0.18.2 watchdog-2.0.2 wcwidth-0.2.5 webencodings-0.5.1 widgetsnbextension-3.5.1 xlsxwriter-1.2.8 yfinance-0.1.59 zipp-3.4.1\n",
      "\u001b[91mWARNING: You are using pip version 19.3; however, version 21.0.1 is available.\n",
      "You should consider upgrading via the 'pip install --upgrade pip' command.\n",
      "\u001b[0mRemoving intermediate container f5117b79986b\n",
      " ---> ce8a8282e3fe\n",
      "Step 7/8 : EXPOSE 80\n",
      " ---> Running in c47c3a33d7b3\n",
      "Removing intermediate container c47c3a33d7b3\n",
      " ---> 07bc8b23b4a2\n",
      "Step 8/8 : ENTRYPOINT [ \"streamlit\", \"run\", \"src/app.py\",     \"--server.port\", \"80\",     \"--server.enableCORS\", \"true\",     \"--browser.serverAddress\", \"0.0.0.0\",     \"--browser.serverPort\", \"443\"]\n",
      " ---> Running in a2ababe09d3e\n",
      "Removing intermediate container a2ababe09d3e\n",
      " ---> 83d6b1c50779\n",
      "Successfully built 83d6b1c50779\n",
      "Successfully tagged dashboard:latest\n"
     ]
    }
   ],
   "source": [
    "!(cd dashboard && docker build -t {image_name} . --no-cache)"
   ]
  },
  {
   "cell_type": "markdown",
   "metadata": {},
   "source": [
    "With our Docker image built, we can now choose a local port that will be used by the dashboard server. Although the Streamlit server will be running on port 80 inside the container (defined in the `Dockerfile`), we can map this to a different local port on our Amazon SageMaker Notebook Instance. We'll use port 8501 in our example, which is the Streamlit default."
   ]
  },
  {
   "cell_type": "code",
   "execution_count": 11,
   "metadata": {},
   "outputs": [],
   "source": [
    "port = 8501"
   ]
  },
  {
   "cell_type": "markdown",
   "metadata": {},
   "source": [
    "We're now ready to start the Docker container. We have a defined a utility function, called `get_docker_run_command`, that can be used to construct the correct `docker run` command. It handles a number of different things including:\n",
    "\n",
    "* port forwarding: access the server running inside the Docker container.\n",
    "* local directory mounts: edit source files without having to rebuild the Docker container.\n",
    "* debug modes: change the verbosity of error messages.\n",
    "* permissions: pass the IAM role from the SageMaker Notebook Instance to the Docker container.\n",
    "\n",
    "After running the cell below, you should click on the `Dashboard URL` link that appears at the top, rather than the `URL` output by the Streamlit server. All local ports must be accessed via the [Jupyter Server Proxy](https://github.com/jupyterhub/jupyter-server-proxy) at `https://{notebook-url}/proxy/{port}`."
   ]
  },
  {
   "cell_type": "code",
   "execution_count": 12,
   "metadata": {},
   "outputs": [
    {
     "name": "stdout",
     "output_type": "stream",
     "text": [
      "Dashboard URL: https://streamlit-dashboard-cfn-resource-notebook.notebook.ap-southeast-2.sagemaker.aws/proxy/8501/\n",
      "\n",
      "  You can now view your Streamlit app in your browser.\n",
      "\n",
      "  URL: http://0.0.0.0:443\n",
      "\n",
      "2021-03-28 05:26:18.849 Found credentials in environment variables.\n",
      "2021-03-28 05:26:21.181 Found credentials in environment variables.\n",
      "2021-03-28 05:26:21.469 Found credentials in environment variables.\n",
      "2021-03-28 05:26:37.102 Found credentials in environment variables.\n",
      "2021-03-28 05:26:40.574 Found credentials in environment variables.\n",
      "2021-03-28 05:27:04.533 Found credentials in environment variables.\n",
      "2021-03-28 05:27:21.648 Found credentials in environment variables.\n",
      "2021-03-28 05:27:30.627 Found credentials in environment variables.\n",
      "2021-03-28 05:27:34.353 Found credentials in environment variables.\n",
      "^C\n",
      "  Stopping...\n"
     ]
    }
   ],
   "source": [
    "url = utils.get_dashboard_url(port)\n",
    "command = utils.get_docker_run_command(port, image_name, local_dir_mount='./dashboard/src', debug=True)\n",
    "!echo Dashboard URL: {url}\n",
    "!{command}"
   ]
  },
  {
   "cell_type": "markdown",
   "metadata": {},
   "source": [
    "You should be able to interact with the sliders and map on the dashboard.\n",
    "\n",
    "When you're ready, try making a few changes to `app.py`. When returning to the dashboard, you should notice a few extra buttons appear in the top right corner. Click 'Rerun'. You should see your changes appear on the dashboard. Click 'Always rerun' to perform a 'live reload' whenever a change is detected.\n",
    "\n",
    "When you're finished developing the dashboard, interrupt the Jupyter kernel by clicking on the stop button or clicking 'Kernel' -> 'Interrupt'."
   ]
  },
  {
   "cell_type": "markdown",
   "metadata": {},
   "source": [
    "## Dashboard Deployment"
   ]
  },
  {
   "cell_type": "markdown",
   "metadata": {},
   "source": [
    "### Docker Container Testing"
   ]
  },
  {
   "cell_type": "markdown",
   "metadata": {},
   "source": [
    "With dashboard development finished, we should now test a Docker container without the local directory mount. Our existing Docker image has outdated dashboard source code files, so we must rebuild the container with the latest source code files. Our `Dockerfile` copies source code files into the image."
   ]
  },
  {
   "cell_type": "code",
   "execution_count": 13,
   "metadata": {
    "scrolled": true
   },
   "outputs": [
    {
     "name": "stdout",
     "output_type": "stream",
     "text": [
      "Sending build context to Docker daemon  22.02kB\n",
      "Step 1/8 : FROM python:3.7.4-slim-stretch\n",
      " ---> fad2b9f06d3b\n",
      "Step 2/8 : WORKDIR /usr/src/app\n",
      " ---> Running in 18ffc6ce6f73\n",
      "Removing intermediate container 18ffc6ce6f73\n",
      " ---> a85bdf223ac3\n",
      "Step 3/8 : COPY requirements.txt requirements.txt\n",
      " ---> 7bcbef68ca8a\n",
      "Step 4/8 : COPY script/eda.py src/app.py\n",
      " ---> 85224835051a\n",
      "Step 5/8 : COPY script/config.py src/config.py\n",
      " ---> 08bc5064da25\n",
      "Step 6/8 : RUN pip install -r requirements.txt\n",
      " ---> Running in f95c9cada45c\n",
      "Collecting certifi==2020.12.5\n",
      "  Downloading https://files.pythonhosted.org/packages/5e/a0/5f06e1e1d463903cf0c0eebeb751791119ed7a4b3737fdc9a77f1cdfb51f/certifi-2020.12.5-py2.py3-none-any.whl (147kB)\n",
      "Collecting chardet==4.0.0\n",
      "  Downloading https://files.pythonhosted.org/packages/19/c7/fa589626997dd07bd87d9269342ccb74b1720384a4d739a1872bd84fbe68/chardet-4.0.0-py2.py3-none-any.whl (178kB)\n",
      "Collecting idna==2.10\n",
      "  Downloading https://files.pythonhosted.org/packages/a2/38/928ddce2273eaa564f6f50de919327bf3a00f091b5baba8dfa9460f3a8a8/idna-2.10-py2.py3-none-any.whl (58kB)\n",
      "Collecting lxml==4.6.3\n",
      "  Downloading https://files.pythonhosted.org/packages/cf/4d/6537313bf58fe22b508f08cf3eb86b29b6f9edf68e00454224539421073b/lxml-4.6.3-cp37-cp37m-manylinux1_x86_64.whl (5.5MB)\n",
      "Collecting multitasking==0.0.9\n",
      "  Downloading https://files.pythonhosted.org/packages/69/e7/e9f1661c28f7b87abfa08cb0e8f51dad2240a9f4f741f02ea839835e6d18/multitasking-0.0.9.tar.gz\n",
      "Collecting numpy==1.19.5\n",
      "  Downloading https://files.pythonhosted.org/packages/08/d6/a6aaa29fea945bc6c61d11f6e0697b325ff7446de5ffd62c2fa02f627048/numpy-1.19.5-cp37-cp37m-manylinux2010_x86_64.whl (14.8MB)\n",
      "Collecting pandas-datareader==0.9.0\n",
      "  Downloading https://files.pythonhosted.org/packages/22/f1/a02eea03628865c3d4c29849cda8c8a73f43358048aee47d79dfbfa6c6c3/pandas_datareader-0.9.0-py3-none-any.whl (107kB)\n",
      "Collecting pandas==1.1.5\n",
      "  Downloading https://files.pythonhosted.org/packages/fd/70/e8eee0cbddf926bf51958c7d6a86bc69167c300fa2ba8e592330a2377d1b/pandas-1.1.5-cp37-cp37m-manylinux1_x86_64.whl (9.5MB)\n",
      "Collecting python-dateutil==2.8.1\n",
      "  Downloading https://files.pythonhosted.org/packages/d4/70/d60450c3dd48ef87586924207ae8907090de0b306af2bce5d134d78615cb/python_dateutil-2.8.1-py2.py3-none-any.whl (227kB)\n",
      "Collecting pytz==2021.1\n",
      "  Downloading https://files.pythonhosted.org/packages/70/94/784178ca5dd892a98f113cdd923372024dc04b8d40abe77ca76b5fb90ca6/pytz-2021.1-py2.py3-none-any.whl (510kB)\n",
      "Collecting requests==2.25.1\n",
      "  Downloading https://files.pythonhosted.org/packages/29/c1/24814557f1d22c56d50280771a17307e6bf87b70727d975fd6b2ce6b014a/requests-2.25.1-py2.py3-none-any.whl (61kB)\n",
      "Collecting six==1.15.0\n",
      "  Downloading https://files.pythonhosted.org/packages/ee/ff/48bde5c0f013094d729fe4b0316ba2a24774b3ff1c52d924a8a4cb04078a/six-1.15.0-py2.py3-none-any.whl\n",
      "Collecting urllib3==1.26.4\n",
      "  Downloading https://files.pythonhosted.org/packages/09/c6/d3e3abe5b4f4f16cf0dfc9240ab7ce10c2baa0e268989a4e3ec19e90c84e/urllib3-1.26.4-py2.py3-none-any.whl (153kB)\n",
      "Collecting yfinance==0.1.59\n",
      "  Downloading https://files.pythonhosted.org/packages/a7/ee/315752b9ef281ba83c62aa7ec2e2074f85223da6e7e74efb4d3e11c0f510/yfinance-0.1.59.tar.gz\n",
      "Collecting streamlit==0.78.0\n",
      "  Downloading https://files.pythonhosted.org/packages/5f/3c/f0a97b684a49bd043bef9f8b8f4092b8a25bee9ad9a3f5e121a7161ded8f/streamlit-0.78.0-py2.py3-none-any.whl (7.5MB)\n",
      "Collecting altair==4.1.0\n",
      "  Downloading https://files.pythonhosted.org/packages/01/55/0bb2226e34f21fa549c3f4557b4f154a5632f61132a969da17c95ca8eab9/altair-4.1.0-py3-none-any.whl (727kB)\n",
      "Collecting pyathena==2.2.0\n",
      "  Downloading https://files.pythonhosted.org/packages/dc/a6/850e06ec1c964c80cdcba15650ac00ddd7564e65725636cf2cf3bf27ea9c/PyAthena-2.2.0-py3-none-any.whl\n",
      "Collecting rich==9.13.0\n",
      "  Downloading https://files.pythonhosted.org/packages/15/e3/7929cc640f14bffc835bba5efb2f9177007e536429d9fe145765e5f221c4/rich-9.13.0-py3-none-any.whl (197kB)\n",
      "Collecting protobuf==3.15.5\n",
      "  Downloading https://files.pythonhosted.org/packages/ca/32/06ac05342b5b77aa5ad4f0ffd5df32eea9092cd8db55f9472d55acab92e2/protobuf-3.15.5-cp37-cp37m-manylinux1_x86_64.whl (1.0MB)\n",
      "Collecting xlsxwriter==1.2.8\n",
      "  Downloading https://files.pythonhosted.org/packages/00/1f/2092a81056d36c1b6651a645aa84c1f76bcee03103072d4fe1cb58501d69/XlsxWriter-1.2.8-py2.py3-none-any.whl (141kB)\n",
      "Collecting gitpython\n",
      "  Downloading https://files.pythonhosted.org/packages/a6/99/98019716955ba243657daedd1de8f3a88ca1f5b75057c38e959db22fb87b/GitPython-3.1.14-py3-none-any.whl (159kB)\n",
      "Collecting pydeck>=0.1.dev5\n",
      "  Downloading https://files.pythonhosted.org/packages/1c/3f/8f04ae0c22d82ec7bec7fcc03270a142f637e362bbd285f7daeeda24fbef/pydeck-0.6.1-py2.py3-none-any.whl (4.6MB)\n",
      "Collecting validators\n",
      "  Downloading https://files.pythonhosted.org/packages/db/2f/7fed3ee94ad665ad2c1de87f858f10a7785251ff75b4fd47987888d07ef1/validators-0.18.2-py3-none-any.whl\n",
      "Collecting pillow>=6.2.0\n",
      "  Downloading https://files.pythonhosted.org/packages/1f/6d/b719ae8e21660a6a962636896dc4b7d657ef451a3ab941516401846ac5cb/Pillow-8.1.2-cp37-cp37m-manylinux1_x86_64.whl (2.2MB)\n",
      "Collecting blinker\n",
      "  Downloading https://files.pythonhosted.org/packages/1b/51/e2a9f3b757eb802f61dc1f2b09c8c99f6eb01cf06416c0671253536517b6/blinker-1.4.tar.gz (111kB)\n",
      "Collecting cachetools>=4.0\n",
      "  Downloading https://files.pythonhosted.org/packages/bb/72/8df2e0dc991f1a1d2c6869404e7622e8ee50d80bff357dbb57c3df70305b/cachetools-4.2.1-py3-none-any.whl\n",
      "Collecting toml\n",
      "  Downloading https://files.pythonhosted.org/packages/44/6f/7120676b6d73228c96e17f1f794d8ab046fc910d781c8d151120c3f1569e/toml-0.10.2-py2.py3-none-any.whl\n",
      "Collecting tzlocal\n",
      "  Downloading https://files.pythonhosted.org/packages/5d/94/d47b0fd5988e6b7059de05720a646a2930920fff247a826f61674d436ba4/tzlocal-2.1-py2.py3-none-any.whl\n",
      "Collecting base58\n",
      "  Downloading https://files.pythonhosted.org/packages/b8/a1/d9f565e9910c09fd325dc638765e8843a19fa696275c16cc08cf3b0a3c25/base58-2.1.0-py3-none-any.whl\n",
      "Collecting tornado>=5.0\n",
      "  Downloading https://files.pythonhosted.org/packages/91/a8/9c5902233fa3c2e6a889cbd164333ddda5009669f494e3fadbeee2c03af5/tornado-6.1-cp37-cp37m-manylinux2010_x86_64.whl (428kB)\n",
      "Collecting astor\n",
      "  Downloading https://files.pythonhosted.org/packages/c3/88/97eef84f48fa04fbd6750e62dcceafba6c63c81b7ac1420856c8dcc0a3f9/astor-0.8.1-py2.py3-none-any.whl\n",
      "Collecting packaging\n",
      "  Downloading https://files.pythonhosted.org/packages/3e/89/7ea760b4daa42653ece2380531c90f64788d979110a2ab51049d92f408af/packaging-20.9-py2.py3-none-any.whl (40kB)\n",
      "Collecting pyarrow; python_version < \"3.9\"\n",
      "  Downloading https://files.pythonhosted.org/packages/fc/61/814f4c8d2cd4d51dfd80a9c4ea14b8fd09e37cb0f6962c1f04d504a02e03/pyarrow-3.0.0-cp37-cp37m-manylinux2014_x86_64.whl (20.7MB)\n",
      "Collecting click>=7.0\n",
      "  Downloading https://files.pythonhosted.org/packages/d2/3d/fa76db83bf75c4f8d338c2fd15c8d33fdd7ad23a9b5e57eb6c5de26b430e/click-7.1.2-py2.py3-none-any.whl (82kB)\n",
      "Collecting watchdog; platform_system != \"Darwin\"\n",
      "  Downloading https://files.pythonhosted.org/packages/c6/ba/a36ca5b4e75649a002f06531862467b3eb5c768caa23d6d88b921fe238d8/watchdog-2.0.2-py3-none-manylinux2014_x86_64.whl (74kB)\n",
      "Collecting entrypoints\n",
      "  Downloading https://files.pythonhosted.org/packages/ac/c6/44694103f8c221443ee6b0041f69e2740d89a25641e62fb4f2ee568f2f9c/entrypoints-0.3-py2.py3-none-any.whl\n",
      "Collecting jinja2\n",
      "  Downloading https://files.pythonhosted.org/packages/7e/c2/1eece8c95ddbc9b1aeb64f5783a9e07a286de42191b7204d67b7496ddf35/Jinja2-2.11.3-py2.py3-none-any.whl (125kB)\n",
      "Collecting jsonschema\n",
      "  Downloading https://files.pythonhosted.org/packages/c5/8f/51e89ce52a085483359217bc72cdbf6e75ee595d5b1d4b5ade40c7e018b8/jsonschema-3.2.0-py2.py3-none-any.whl (56kB)\n",
      "Collecting toolz\n",
      "  Downloading https://files.pythonhosted.org/packages/12/f5/537e55f8ba664ff2a26f26913010fb0fcb98b6bbadc6158af888184fd0b7/toolz-0.11.1-py3-none-any.whl (55kB)\n",
      "Collecting boto3>=1.4.4\n",
      "  Downloading https://files.pythonhosted.org/packages/f2/bd/3f9cc87a8faa561903644ec6ef7e7e408ca3640e77c5944124ad6adbaecd/boto3-1.17.39-py2.py3-none-any.whl (131kB)\n",
      "Collecting botocore>=1.5.52\n",
      "  Downloading https://files.pythonhosted.org/packages/72/ad/abdc982cb695a20764df007a2d7cb0ac8964c9591fd014006e40334e4a74/botocore-1.20.39-py2.py3-none-any.whl (7.3MB)\n"
     ]
    },
    {
     "name": "stdout",
     "output_type": "stream",
     "text": [
      "Collecting tenacity>=4.1.0\n",
      "  Downloading https://files.pythonhosted.org/packages/41/ee/d6eddff86161c6a3a1753af4a66b06cbc508d3b77ca4698cd0374cd66531/tenacity-7.0.0-py2.py3-none-any.whl\n",
      "Collecting colorama<0.5.0,>=0.4.0\n",
      "  Downloading https://files.pythonhosted.org/packages/44/98/5b86278fbbf250d239ae0ecb724f8572af1c91f4a11edf4d36a206189440/colorama-0.4.4-py2.py3-none-any.whl\n",
      "Collecting commonmark<0.10.0,>=0.9.0\n",
      "  Downloading https://files.pythonhosted.org/packages/b1/92/dfd892312d822f36c55366118b95d914e5f16de11044a27cf10a7d71bbbf/commonmark-0.9.1-py2.py3-none-any.whl (51kB)\n",
      "Collecting typing-extensions<4.0.0,>=3.7.4\n",
      "  Downloading https://files.pythonhosted.org/packages/60/7a/e881b5abb54db0e6e671ab088d079c57ce54e8a01a3ca443f561ccadb37e/typing_extensions-3.7.4.3-py3-none-any.whl\n",
      "Collecting pygments<3.0.0,>=2.6.0\n",
      "  Downloading https://files.pythonhosted.org/packages/3a/80/a52c0a7c5939737c6dca75a831e89658ecb6f590fb7752ac777d221937b9/Pygments-2.8.1-py3-none-any.whl (983kB)\n",
      "Collecting gitdb<5,>=4.0.1\n",
      "  Downloading https://files.pythonhosted.org/packages/ea/e8/f414d1a4f0bbc668ed441f74f44c116d9816833a48bf81d22b697090dba8/gitdb-4.0.7-py3-none-any.whl (63kB)\n",
      "Collecting ipywidgets>=7.0.0\n",
      "  Downloading https://files.pythonhosted.org/packages/11/53/084940a83a8158364e630a664a30b03068c25ab75243224d6b488800d43a/ipywidgets-7.6.3-py2.py3-none-any.whl (121kB)\n",
      "Collecting traitlets>=4.3.2\n",
      "  Downloading https://files.pythonhosted.org/packages/f6/7d/3ecb0ebd0ce8dcdfa7bd47ab85c1d4a521e6770ef283d0824f5804994dfe/traitlets-5.0.5-py3-none-any.whl (100kB)\n",
      "Collecting ipykernel>=5.1.2; python_version >= \"3.4\"\n",
      "  Downloading https://files.pythonhosted.org/packages/56/95/3a670c8b2c2370bd8631c313f42e60983b3113ffec4035940592252bd6d5/ipykernel-5.5.0-py3-none-any.whl (120kB)\n",
      "Collecting decorator>=3.4.0\n",
      "  Downloading https://files.pythonhosted.org/packages/ed/1b/72a1821152d07cf1d8b6fce298aeb06a7eb90f4d6d41acec9861e7cc6df0/decorator-4.4.2-py2.py3-none-any.whl\n",
      "Collecting pyparsing>=2.0.2\n",
      "  Downloading https://files.pythonhosted.org/packages/8a/bb/488841f56197b13700afd5658fc279a2025a39e22449b7cf29864669b15d/pyparsing-2.4.7-py2.py3-none-any.whl (67kB)\n",
      "Collecting MarkupSafe>=0.23\n",
      "  Downloading https://files.pythonhosted.org/packages/c2/37/2e4def8ce3739a258998215df907f5815ecd1af71e62147f5eea2d12d4e8/MarkupSafe-1.1.1-cp37-cp37m-manylinux2010_x86_64.whl\n",
      "Collecting importlib-metadata; python_version < \"3.8\"\n",
      "  Downloading https://files.pythonhosted.org/packages/d4/61/5a799932038cd33f50799c8b539fc58c747cb5ed8082b5dcaa4d90c1cd1a/importlib_metadata-3.8.1-py3-none-any.whl\n",
      "Collecting pyrsistent>=0.14.0\n",
      "  Downloading https://files.pythonhosted.org/packages/4d/70/fd441df751ba8b620e03fd2d2d9ca902103119616f0f6cc42e6405035062/pyrsistent-0.17.3.tar.gz (106kB)\n",
      "Requirement already satisfied: setuptools in /usr/local/lib/python3.7/site-packages (from jsonschema->altair==4.1.0->-r requirements.txt (line 46)) (41.4.0)\n",
      "Collecting attrs>=17.4.0\n",
      "  Downloading https://files.pythonhosted.org/packages/c3/aa/cb45262569fcc047bf070b5de61813724d6726db83259222cd7b4c79821a/attrs-20.3.0-py2.py3-none-any.whl (49kB)\n",
      "Collecting jmespath<1.0.0,>=0.7.1\n",
      "  Downloading https://files.pythonhosted.org/packages/07/cb/5f001272b6faeb23c1c9e0acc04d48eaaf5c862c17709d20e3469c6e0139/jmespath-0.10.0-py2.py3-none-any.whl\n",
      "Collecting s3transfer<0.4.0,>=0.3.0\n",
      "  Downloading https://files.pythonhosted.org/packages/98/14/0b4be62b65c52d6d1c442f24e02d2a9889a73d3c352002e14c70f84a679f/s3transfer-0.3.6-py2.py3-none-any.whl (73kB)\n",
      "Collecting smmap<5,>=3.0.1\n",
      "  Downloading https://files.pythonhosted.org/packages/68/ee/d540eb5e5996eb81c26ceffac6ee49041d473bc5125f2aa995cf51ec1cf1/smmap-4.0.0-py2.py3-none-any.whl\n",
      "Collecting jupyterlab-widgets>=1.0.0; python_version >= \"3.6\"\n",
      "  Downloading https://files.pythonhosted.org/packages/18/b5/3473d275e3b2359efdf5768e9df95537308b93a31ad94fa92814ac565826/jupyterlab_widgets-1.0.0-py3-none-any.whl (243kB)\n",
      "Collecting nbformat>=4.2.0\n",
      "  Downloading https://files.pythonhosted.org/packages/13/1d/59cbc5a6b627ba3b4c0ec5ccc82a9002e58b324e2620a4929b81f1f8d309/nbformat-5.1.2-py3-none-any.whl (113kB)\n",
      "Collecting ipython>=4.0.0; python_version >= \"3.3\"\n",
      "  Downloading https://files.pythonhosted.org/packages/c9/b1/82cbe2b856386f44f37fdae54d9b425813bd86fe33385c9d658d64826098/ipython-7.22.0-py3-none-any.whl (785kB)\n",
      "Collecting widgetsnbextension~=3.5.0\n",
      "  Downloading https://files.pythonhosted.org/packages/6c/7b/7ac231c20d2d33c445eaacf8a433f4e22c60677eb9776c7c5262d7ddee2d/widgetsnbextension-3.5.1-py2.py3-none-any.whl (2.2MB)\n",
      "Collecting ipython-genutils\n",
      "  Downloading https://files.pythonhosted.org/packages/fa/bc/9bd3b5c2b4774d5f33b2d544f1460be9df7df2fe42f352135381c347c69a/ipython_genutils-0.2.0-py2.py3-none-any.whl\n",
      "Collecting jupyter-client\n",
      "  Downloading https://files.pythonhosted.org/packages/77/e8/c3cf72a32a697256608d5fa96360c431adec6e1c6709ba7f13f99ff5ee04/jupyter_client-6.1.12-py3-none-any.whl (112kB)\n",
      "Collecting zipp>=0.5\n",
      "  Downloading https://files.pythonhosted.org/packages/0f/8c/715c54e9e34c0c4820f616a913a7de3337d0cd79074dd1bed4dd840f16ae/zipp-3.4.1-py3-none-any.whl\n",
      "Collecting jupyter-core\n",
      "  Downloading https://files.pythonhosted.org/packages/53/40/5af36bffa0af3ac71d3a6fc6709de10e4f6ff7c01745b8bc4715372189c9/jupyter_core-4.7.1-py3-none-any.whl (82kB)\n",
      "Collecting pickleshare\n",
      "  Downloading https://files.pythonhosted.org/packages/9a/41/220f49aaea88bc6fa6cba8d05ecf24676326156c23b991e80b3f2fc24c77/pickleshare-0.7.5-py2.py3-none-any.whl\n",
      "Collecting prompt-toolkit!=3.0.0,!=3.0.1,<3.1.0,>=2.0.0\n",
      "  Downloading https://files.pythonhosted.org/packages/eb/e6/4b4ca4fa94462d4560ba2f4e62e62108ab07be2e16a92e594e43b12d3300/prompt_toolkit-3.0.18-py3-none-any.whl (367kB)\n",
      "Collecting backcall\n",
      "  Downloading https://files.pythonhosted.org/packages/4c/1c/ff6546b6c12603d8dd1070aa3c3d273ad4c07f5771689a7b69a550e8c951/backcall-0.2.0-py2.py3-none-any.whl\n",
      "Collecting pexpect>4.3; sys_platform != \"win32\"\n",
      "  Downloading https://files.pythonhosted.org/packages/39/7b/88dbb785881c28a102619d46423cb853b46dbccc70d3ac362d99773a78ce/pexpect-4.8.0-py2.py3-none-any.whl (59kB)\n",
      "Collecting jedi>=0.16\n",
      "  Downloading https://files.pythonhosted.org/packages/f9/36/7aa67ae2663025b49e8426ead0bad983fee1b73f472536e9790655da0277/jedi-0.18.0-py2.py3-none-any.whl (1.4MB)\n",
      "Collecting notebook>=4.4.1\n",
      "  Downloading https://files.pythonhosted.org/packages/5d/86/8f951abc6ac651a75a059d2b77fe99fa5df80bf4dc4700c126a0bee486b8/notebook-6.3.0-py3-none-any.whl (9.5MB)\n",
      "Collecting pyzmq>=13\n",
      "  Downloading https://files.pythonhosted.org/packages/85/1b/55859190556d85f39f2c1e5b10430d8d6187745e587e487cb1dc746d8bf2/pyzmq-22.0.3-cp37-cp37m-manylinux1_x86_64.whl (1.1MB)\n",
      "Collecting wcwidth\n",
      "  Downloading https://files.pythonhosted.org/packages/59/7c/e39aca596badaf1b78e8f547c807b04dae603a433d3e7a7e04d67f2ef3e5/wcwidth-0.2.5-py2.py3-none-any.whl\n",
      "Collecting ptyprocess>=0.5\n",
      "  Downloading https://files.pythonhosted.org/packages/22/a6/858897256d0deac81a172289110f31629fc4cee19b6f01283303e18c8db3/ptyprocess-0.7.0-py2.py3-none-any.whl\n",
      "Collecting parso<0.9.0,>=0.8.0\n",
      "  Downloading https://files.pythonhosted.org/packages/ad/f0/ef6bdb1eba2dbfda60c985cd8d7b47b6ed8c6a1f5d212f39ff50b64f172c/parso-0.8.1-py2.py3-none-any.whl (93kB)\n",
      "Collecting argon2-cffi\n",
      "  Downloading https://files.pythonhosted.org/packages/e0/d7/5da06217807106ed6d7b4f5ccb8ec5e3f9ec969217faad4b5d1af0b55101/argon2_cffi-20.1.0-cp35-abi3-manylinux1_x86_64.whl (97kB)\n",
      "Collecting nbconvert\n",
      "  Downloading https://files.pythonhosted.org/packages/13/2f/acbe7006548f3914456ee47f97a2033b1b2f3daf921b12ac94105d87c163/nbconvert-6.0.7-py3-none-any.whl (552kB)\n",
      "Collecting Send2Trash>=1.5.0\n",
      "  Downloading https://files.pythonhosted.org/packages/49/46/c3dc27481d1cc57b9385aff41c474ceb7714f7935b1247194adae45db714/Send2Trash-1.5.0-py3-none-any.whl\n",
      "Collecting terminado>=0.8.3\n",
      "  Downloading https://files.pythonhosted.org/packages/c9/cf/55051993a27eca8df8ff7362a0c98dded6fc6f66b6e322513fde3d195cda/terminado-0.9.3-py3-none-any.whl\n",
      "Collecting prometheus-client\n",
      "  Downloading https://files.pythonhosted.org/packages/f4/7e/ef341c67ed43ad2e39633a35c28b77bc555f9572f4df4fee11c2b467db00/prometheus_client-0.9.0-py2.py3-none-any.whl (53kB)\n",
      "Collecting cffi>=1.0.0\n",
      "  Downloading https://files.pythonhosted.org/packages/97/2d/cd29c79f2eb1384577d0662f23c89d29621152f14bef8c6b25747785744b/cffi-1.14.5-cp37-cp37m-manylinux1_x86_64.whl (402kB)\n"
     ]
    },
    {
     "name": "stdout",
     "output_type": "stream",
     "text": [
      "Collecting jupyterlab-pygments\n",
      "  Downloading https://files.pythonhosted.org/packages/a8/6f/c34288766797193b512c6508f5994b830fb06134fdc4ca8214daba0aa443/jupyterlab_pygments-0.1.2-py2.py3-none-any.whl\n",
      "Collecting nbclient<0.6.0,>=0.5.0\n",
      "  Downloading https://files.pythonhosted.org/packages/22/a6/f3a01a5c1a0e72d1d064f33d4cd9c3a782010f48f48f47f256d0b438994a/nbclient-0.5.3-py3-none-any.whl (82kB)\n",
      "Collecting testpath\n",
      "  Downloading https://files.pythonhosted.org/packages/1b/9e/1a170feaa54f22aeb5a5d16c9015e82234275a3c8ab630b552493f9cb8a9/testpath-0.4.4-py2.py3-none-any.whl (163kB)\n",
      "Collecting bleach\n",
      "  Downloading https://files.pythonhosted.org/packages/f0/46/2bbd92086a4c6f051214cb48df6d9132b5f32c5e881d3f4991b16ec7e499/bleach-3.3.0-py2.py3-none-any.whl (283kB)\n",
      "Collecting pandocfilters>=1.4.1\n",
      "  Downloading https://files.pythonhosted.org/packages/28/78/bd59a9adb72fa139b1c9c186e6f65aebee52375a747e4b6a6dcf0880956f/pandocfilters-1.4.3.tar.gz\n",
      "Collecting defusedxml\n",
      "  Downloading https://files.pythonhosted.org/packages/07/6c/aa3f2f849e01cb6a001cd8554a88d4c77c5c1a31c95bdf1cf9301e6d9ef4/defusedxml-0.7.1-py2.py3-none-any.whl\n",
      "Collecting mistune<2,>=0.8.1\n",
      "  Downloading https://files.pythonhosted.org/packages/09/ec/4b43dae793655b7d8a25f76119624350b4d65eb663459eb9603d7f1f0345/mistune-0.8.4-py2.py3-none-any.whl\n",
      "Collecting pycparser\n",
      "  Downloading https://files.pythonhosted.org/packages/ae/e7/d9c3a176ca4b02024debf82342dab36efadfc5776f9c8db077e8f6e71821/pycparser-2.20-py2.py3-none-any.whl (112kB)\n",
      "Collecting nest-asyncio\n",
      "  Downloading https://files.pythonhosted.org/packages/52/e2/9b37da54e6e9094d2f558ae643d1954a0fa8215dfee4fa261f31c5439796/nest_asyncio-1.5.1-py3-none-any.whl\n",
      "Collecting async-generator\n",
      "  Downloading https://files.pythonhosted.org/packages/71/52/39d20e03abd0ac9159c162ec24b93fbcaa111e8400308f2465432495ca2b/async_generator-1.10-py3-none-any.whl\n",
      "Collecting webencodings\n",
      "  Downloading https://files.pythonhosted.org/packages/f4/24/2a3e3df732393fed8b3ebf2ec078f05546de641fe1b667ee316ec1dcf3b7/webencodings-0.5.1-py2.py3-none-any.whl\n",
      "Building wheels for collected packages: multitasking, yfinance, blinker, pyrsistent, pandocfilters\n",
      "  Building wheel for multitasking (setup.py): started\n",
      "  Building wheel for multitasking (setup.py): finished with status 'done'\n",
      "  Created wheel for multitasking: filename=multitasking-0.0.9-cp37-none-any.whl size=8368 sha256=3f8e02bcfa1bcb05b8329506855a65b472c9a50eca05d322047116f4add0a7f5\n",
      "  Stored in directory: /root/.cache/pip/wheels/37/fa/73/d492849e319038eb4d986f5152e4b19ffb1bc0639da84d2677\n",
      "  Building wheel for yfinance (setup.py): started\n",
      "  Building wheel for yfinance (setup.py): finished with status 'done'\n",
      "  Created wheel for yfinance: filename=yfinance-0.1.59-py2.py3-none-any.whl size=23443 sha256=47d250bdf62c06b5abf1990f457632b99df437b4e88817600730f36b0624871f\n",
      "  Stored in directory: /root/.cache/pip/wheels/f8/2a/0f/4b5a86e1d52e451757eb6bc17fd899629f0925c777741b6d04\n",
      "  Building wheel for blinker (setup.py): started\n",
      "  Building wheel for blinker (setup.py): finished with status 'done'\n",
      "  Created wheel for blinker: filename=blinker-1.4-cp37-none-any.whl size=13450 sha256=ddf7fea75d832353cb8bd127c0bb11cea3515fa0b57dc0beab3b58b5e31a16a2\n",
      "  Stored in directory: /root/.cache/pip/wheels/92/a0/00/8690a57883956a301d91cf4ec999cc0b258b01e3f548f86e89\n",
      "  Building wheel for pyrsistent (setup.py): started\n",
      "  Building wheel for pyrsistent (setup.py): finished with status 'done'\n",
      "  Created wheel for pyrsistent: filename=pyrsistent-0.17.3-cp37-cp37m-linux_x86_64.whl size=55873 sha256=2e508566e1b181c5e3622771a94d0834f723bbc456981cf27fdbf23afb9c409c\n",
      "  Stored in directory: /root/.cache/pip/wheels/f0/b8/de/b593ad311be4eb458499d100db081e453576032272398b7ddc\n",
      "  Building wheel for pandocfilters (setup.py): started\n",
      "  Building wheel for pandocfilters (setup.py): finished with status 'done'\n",
      "  Created wheel for pandocfilters: filename=pandocfilters-1.4.3-cp37-none-any.whl size=7991 sha256=603ddf088e25c58dbc48ccf94e2d787175b6731c2cc0200fbf627c23ba76126f\n",
      "  Stored in directory: /root/.cache/pip/wheels/93/9a/79/b2c3567908fd6209e4674ca23d9fcf005aae5fe89148913727\n",
      "Successfully built multitasking yfinance blinker pyrsistent pandocfilters\n",
      "Installing collected packages: certifi, chardet, idna, lxml, multitasking, numpy, six, python-dateutil, pytz, pandas, urllib3, requests, pandas-datareader, yfinance, smmap, gitdb, gitpython, pickleshare, ipython-genutils, traitlets, wcwidth, prompt-toolkit, backcall, ptyprocess, pexpect, pygments, decorator, parso, jedi, ipython, tornado, pyzmq, jupyter-core, jupyter-client, ipykernel, jupyterlab-widgets, zipp, typing-extensions, importlib-metadata, pyrsistent, attrs, jsonschema, nbformat, pycparser, cffi, argon2-cffi, jupyterlab-pygments, nest-asyncio, async-generator, nbclient, testpath, webencodings, pyparsing, packaging, bleach, MarkupSafe, jinja2, pandocfilters, defusedxml, mistune, entrypoints, nbconvert, Send2Trash, terminado, prometheus-client, notebook, widgetsnbextension, ipywidgets, pydeck, validators, pillow, blinker, cachetools, toml, tzlocal, base58, astor, protobuf, pyarrow, click, watchdog, toolz, altair, streamlit, jmespath, botocore, s3transfer, boto3, tenacity, pyathena, colorama, commonmark, rich, xlsxwriter\n",
      "Successfully installed MarkupSafe-1.1.1 Send2Trash-1.5.0 altair-4.1.0 argon2-cffi-20.1.0 astor-0.8.1 async-generator-1.10 attrs-20.3.0 backcall-0.2.0 base58-2.1.0 bleach-3.3.0 blinker-1.4 boto3-1.17.39 botocore-1.20.39 cachetools-4.2.1 certifi-2020.12.5 cffi-1.14.5 chardet-4.0.0 click-7.1.2 colorama-0.4.4 commonmark-0.9.1 decorator-4.4.2 defusedxml-0.7.1 entrypoints-0.3 gitdb-4.0.7 gitpython-3.1.14 idna-2.10 importlib-metadata-3.8.1 ipykernel-5.5.0 ipython-7.22.0 ipython-genutils-0.2.0 ipywidgets-7.6.3 jedi-0.18.0 jinja2-2.11.3 jmespath-0.10.0 jsonschema-3.2.0 jupyter-client-6.1.12 jupyter-core-4.7.1 jupyterlab-pygments-0.1.2 jupyterlab-widgets-1.0.0 lxml-4.6.3 mistune-0.8.4 multitasking-0.0.9 nbclient-0.5.3 nbconvert-6.0.7 nbformat-5.1.2 nest-asyncio-1.5.1 notebook-6.3.0 numpy-1.19.5 packaging-20.9 pandas-1.1.5 pandas-datareader-0.9.0 pandocfilters-1.4.3 parso-0.8.1 pexpect-4.8.0 pickleshare-0.7.5 pillow-8.1.2 prometheus-client-0.9.0 prompt-toolkit-3.0.18 protobuf-3.15.5 ptyprocess-0.7.0 pyarrow-3.0.0 pyathena-2.2.0 pycparser-2.20 pydeck-0.6.1 pygments-2.8.1 pyparsing-2.4.7 pyrsistent-0.17.3 python-dateutil-2.8.1 pytz-2021.1 pyzmq-22.0.3 requests-2.25.1 rich-9.13.0 s3transfer-0.3.6 six-1.15.0 smmap-4.0.0 streamlit-0.78.0 tenacity-7.0.0 terminado-0.9.3 testpath-0.4.4 toml-0.10.2 toolz-0.11.1 tornado-6.1 traitlets-5.0.5 typing-extensions-3.7.4.3 tzlocal-2.1 urllib3-1.26.4 validators-0.18.2 watchdog-2.0.2 wcwidth-0.2.5 webencodings-0.5.1 widgetsnbextension-3.5.1 xlsxwriter-1.2.8 yfinance-0.1.59 zipp-3.4.1\n",
      "\u001b[91mWARNING: You are using pip version 19.3; however, version 21.0.1 is available.\n",
      "You should consider upgrading via the 'pip install --upgrade pip' command.\n",
      "\u001b[0mRemoving intermediate container f95c9cada45c\n",
      " ---> 1ce1be396e93\n",
      "Step 7/8 : EXPOSE 80\n",
      " ---> Running in eee66bde44a4\n",
      "Removing intermediate container eee66bde44a4\n",
      " ---> 492c8459845a\n",
      "Step 8/8 : ENTRYPOINT [ \"streamlit\", \"run\", \"src/app.py\",     \"--server.port\", \"80\",     \"--server.enableCORS\", \"true\",     \"--browser.serverAddress\", \"0.0.0.0\",     \"--browser.serverPort\", \"443\"]\n",
      " ---> Running in 2fc18f019335\n",
      "Removing intermediate container 2fc18f019335\n",
      " ---> 257332d55afa\n",
      "Successfully built 257332d55afa\n",
      "Successfully tagged dashboard:latest\n"
     ]
    }
   ],
   "source": [
    "!(cd dashboard && docker build -t {image_name} . --no-cache)"
   ]
  },
  {
   "cell_type": "markdown",
   "metadata": {},
   "source": [
    "Just like before we use `get_docker_run_command` to start the dashboard Docker container, but this time we don't mount a local directory."
   ]
  },
  {
   "cell_type": "code",
   "execution_count": 14,
   "metadata": {},
   "outputs": [
    {
     "name": "stdout",
     "output_type": "stream",
     "text": [
      "Dashboard URL: https://streamlit-dashboard-cfn-resource-notebook.notebook.ap-southeast-2.sagemaker.aws/proxy/8501/\n",
      "\n",
      "  You can now view your Streamlit app in your browser.\n",
      "\n",
      "  URL: http://0.0.0.0:443\n",
      "\n",
      "2021-03-28 05:29:03.008 Found credentials in environment variables.\n",
      "2021-03-28 05:29:05.318 Found credentials in environment variables.\n",
      "2021-03-28 05:29:05.570 Found credentials in environment variables.\n",
      "2021-03-28 05:29:16.821 Found credentials in environment variables.\n",
      "2021-03-28 05:29:25.142 Found credentials in environment variables.\n",
      "2021-03-28 05:29:28.936 Found credentials in environment variables.\n",
      "^C\n",
      "  Stopping...\n"
     ]
    }
   ],
   "source": [
    "url = utils.get_dashboard_url(port)\n",
    "command = utils.get_docker_run_command(port, image_name)\n",
    "!echo Dashboard URL: {url}\n",
    "!{command}"
   ]
  },
  {
   "cell_type": "markdown",
   "metadata": {},
   "source": [
    "If all looks good here, we can continue with the dashboard deployment."
   ]
  },
  {
   "cell_type": "markdown",
   "metadata": {},
   "source": [
    "### Amazon ECR Upload"
   ]
  },
  {
   "cell_type": "markdown",
   "metadata": {},
   "source": [
    "Our dashboard Docker image is currently stored on our Amazon SageMaker Notebook Instance. We need to access this image from [Amazon Elastic Container Service](https://aws.amazon.com/ecs/) (ECS), so we need to upload this image to [Amazon Elastic Container Registry](https://aws.amazon.com/ecr/) (ECR). As part of the AWS CloudFormation Stack creation, an Amazon ECR Repository was created for us to store the dashboard Docker image. We can retrieve the necessary identifiers from the environment variables."
   ]
  },
  {
   "cell_type": "code",
   "execution_count": 15,
   "metadata": {},
   "outputs": [],
   "source": [
    "AWS_ACCOUNT_ID = os.environ['AWS_ACCOUNT_ID']\n",
    "AWS_REGION = os.environ['AWS_REGION']\n",
    "DASHBOARD_ECR_REPOSITORY = os.environ['DASHBOARD_ECR_REPOSITORY']"
   ]
  },
  {
   "cell_type": "markdown",
   "metadata": {},
   "source": [
    "We just need to tag the local dashboard Docker image, login to Amazon ECR and push the local dashboard Docker image to the Amazon ECR Repository."
   ]
  },
  {
   "cell_type": "code",
   "execution_count": 16,
   "metadata": {},
   "outputs": [
    {
     "name": "stdout",
     "output_type": "stream",
     "text": [
      "WARNING! Using --password via the CLI is insecure. Use --password-stdin.\n",
      "WARNING! Your password will be stored unencrypted in /home/ec2-user/.docker/config.json.\n",
      "Configure a credential helper to remove this warning. See\n",
      "https://docs.docker.com/engine/reference/commandline/login/#credentials-store\n",
      "\n",
      "Login Succeeded\n",
      "The push refers to repository [571744842822.dkr.ecr.ap-southeast-2.amazonaws.com/streamlit-dashboards-sdy-deploymentstack-ryxtw7nca4ly-ecrrepository-mhwml9zffkox]\n",
      "\n",
      "\u001b[1B94eca690: Preparing \n",
      "\u001b[1B3326e73e: Preparing \n",
      "\u001b[1B0fbb8f4f: Preparing \n",
      "\u001b[1B5b12a9fc: Preparing \n",
      "\u001b[1B964282b6: Preparing \n",
      "\u001b[1Be7cd1f0d: Preparing \n",
      "\u001b[1B218d77da: Preparing \n",
      "\u001b[1Bacbcd846: Preparing \n",
      "\u001b[1B10bee743: Preparing \n",
      "\u001b[10B4eca690: Pushed   524.6MB/510.2MBA\u001b[2K\u001b[8A\u001b[2K\u001b[10A\u001b[2K\u001b[10A\u001b[2K\u001b[7A\u001b[2K\u001b[10A\u001b[2K\u001b[6A\u001b[2K\u001b[5A\u001b[2K\u001b[4A\u001b[2K\u001b[10A\u001b[2K\u001b[5A\u001b[2K\u001b[5A\u001b[2K\u001b[10A\u001b[2K\u001b[5A\u001b[2K\u001b[5A\u001b[2K\u001b[5A\u001b[2K\u001b[10A\u001b[2K\u001b[5A\u001b[2K\u001b[10A\u001b[2K\u001b[5A\u001b[2K\u001b[5A\u001b[2K\u001b[3A\u001b[2K\u001b[10A\u001b[2K\u001b[3A\u001b[2K\u001b[3A\u001b[2K\u001b[10A\u001b[2K\u001b[3A\u001b[2K\u001b[3A\u001b[2K\u001b[3A\u001b[2K\u001b[2A\u001b[2K\u001b[3A\u001b[2K\u001b[10A\u001b[2K\u001b[10A\u001b[2K\u001b[3A\u001b[2K\u001b[10A\u001b[2K\u001b[10A\u001b[2K\u001b[3A\u001b[2K\u001b[10A\u001b[2K\u001b[3A\u001b[2K\u001b[2A\u001b[2K\u001b[10A\u001b[2K\u001b[2A\u001b[2K\u001b[3A\u001b[2K\u001b[2A\u001b[2K\u001b[10A\u001b[2K\u001b[2A\u001b[2K\u001b[10A\u001b[2K\u001b[2A\u001b[2K\u001b[10A\u001b[2K\u001b[10A\u001b[2K\u001b[10A\u001b[2K\u001b[10A\u001b[2K\u001b[10A\u001b[2K\u001b[2A\u001b[2K\u001b[5A\u001b[2K\u001b[1A\u001b[2K\u001b[10A\u001b[2K\u001b[1A\u001b[2K\u001b[2A\u001b[2K\u001b[10A\u001b[2K\u001b[1A\u001b[2K\u001b[10A\u001b[2K\u001b[1A\u001b[2K\u001b[3A\u001b[2K\u001b[10A\u001b[2K\u001b[1A\u001b[2K\u001b[10A\u001b[2K\u001b[10A\u001b[2K\u001b[2A\u001b[2K\u001b[3A\u001b[2K\u001b[1A\u001b[2K\u001b[10A\u001b[2K\u001b[10A\u001b[2K\u001b[3A\u001b[2K\u001b[10A\u001b[2K\u001b[10A\u001b[2K\u001b[10A\u001b[2K\u001b[2A\u001b[2K\u001b[10A\u001b[2K\u001b[2A\u001b[2K\u001b[10A\u001b[2K\u001b[3A\u001b[2K\u001b[10A\u001b[2K\u001b[3A\u001b[2K\u001b[1A\u001b[2K\u001b[3A\u001b[2K\u001b[10A\u001b[2K\u001b[3A\u001b[2K\u001b[10A\u001b[2K\u001b[3A\u001b[2K\u001b[3A\u001b[2K\u001b[1A\u001b[2K\u001b[10A\u001b[2K\u001b[3A\u001b[2K\u001b[3A\u001b[2K\u001b[10A\u001b[2K\u001b[1A\u001b[2K\u001b[2A\u001b[2K\u001b[1A\u001b[2K\u001b[10A\u001b[2K\u001b[1A\u001b[2K\u001b[10A\u001b[2K\u001b[3A\u001b[2K\u001b[1A\u001b[2K\u001b[1A\u001b[2K\u001b[3A\u001b[2K\u001b[10A\u001b[2K\u001b[3A\u001b[2K\u001b[10A\u001b[2K\u001b[3A\u001b[2K\u001b[10A\u001b[2K\u001b[1A\u001b[2K\u001b[10A\u001b[2K\u001b[1A\u001b[2K\u001b[3A\u001b[2K\u001b[1A\u001b[2K\u001b[3A\u001b[2K\u001b[1A\u001b[2K\u001b[10A\u001b[2K\u001b[3A\u001b[2K\u001b[10A\u001b[2KPushing  16.26MB/55.34MB\u001b[10A\u001b[2K\u001b[1A\u001b[2K\u001b[10A\u001b[2K\u001b[1A\u001b[2K\u001b[10A\u001b[2K\u001b[1A\u001b[2K\u001b[3A\u001b[2K\u001b[1A\u001b[2K\u001b[3A\u001b[2K\u001b[3A\u001b[2K\u001b[10A\u001b[2K\u001b[3A\u001b[2K\u001b[1A\u001b[2K\u001b[3A\u001b[2K\u001b[1A\u001b[2K\u001b[10A\u001b[2K\u001b[1A\u001b[2K\u001b[3A\u001b[2K\u001b[1A\u001b[2K\u001b[3A\u001b[2K\u001b[3A\u001b[2K\u001b[1A\u001b[2K\u001b[3A\u001b[2K\u001b[10A\u001b[2K\u001b[3A\u001b[2K\u001b[1A\u001b[2K\u001b[10A\u001b[2K\u001b[3A\u001b[2K\u001b[10A\u001b[2K\u001b[1A\u001b[2K\u001b[3A\u001b[2K\u001b[1A\u001b[2K\u001b[10A\u001b[2K\u001b[1A\u001b[2K\u001b[10A\u001b[2K\u001b[1A\u001b[2K\u001b[3A\u001b[2K\u001b[1A\u001b[2K\u001b[10A\u001b[2K\u001b[1A\u001b[2K\u001b[10A\u001b[2K\u001b[3A\u001b[2K\u001b[10A\u001b[2K\u001b[1A\u001b[2K\u001b[10A\u001b[2K\u001b[1A\u001b[2K\u001b[10A\u001b[2K\u001b[3A\u001b[2K\u001b[10A\u001b[2K\u001b[1A\u001b[2K\u001b[3A\u001b[2K\u001b[1A\u001b[2K\u001b[3A\u001b[2K\u001b[1A\u001b[2K\u001b[10A\u001b[2K\u001b[1A\u001b[2K\u001b[10A\u001b[2K\u001b[1A\u001b[2K\u001b[10A\u001b[2K\u001b[10A\u001b[2K\u001b[1A\u001b[2K\u001b[10A\u001b[2K\u001b[1A\u001b[2K\u001b[10A\u001b[2K\u001b[1A\u001b[2K\u001b[10A\u001b[2K\u001b[1A\u001b[2K\u001b[10A\u001b[2K\u001b[10A\u001b[2K\u001b[1A\u001b[2K\u001b[10A\u001b[2K\u001b[10A\u001b[2K\u001b[10A\u001b[2K\u001b[10A\u001b[2K\u001b[10A\u001b[2K\u001b[10A\u001b[2K\u001b[10A\u001b[2K\u001b[10A\u001b[2K\u001b[10A\u001b[2K\u001b[10A\u001b[2K\u001b[10A\u001b[2K\u001b[10A\u001b[2K\u001b[10A\u001b[2K\u001b[10A\u001b[2K\u001b[10A\u001b[2K\u001b[10A\u001b[2K\u001b[10A\u001b[2K\u001b[10A\u001b[2K\u001b[10A\u001b[2K\u001b[10A\u001b[2K\u001b[10A\u001b[2K\u001b[10A\u001b[2K\u001b[10A\u001b[2K\u001b[10A\u001b[2K\u001b[10A\u001b[2K\u001b[10A\u001b[2K\u001b[10A\u001b[2K\u001b[10A\u001b[2K\u001b[10A\u001b[2K\u001b[10A\u001b[2K\u001b[10A\u001b[2K\u001b[10A\u001b[2K\u001b[10A\u001b[2K\u001b[10A\u001b[2K\u001b[10A\u001b[2K\u001b[10A\u001b[2K\u001b[10A\u001b[2K\u001b[10A\u001b[2K\u001b[10A\u001b[2K\u001b[10A\u001b[2K\u001b[10A\u001b[2K\u001b[10A\u001b[2K\u001b[10A\u001b[2K\u001b[10A\u001b[2K\u001b[10A\u001b[2K\u001b[10A\u001b[2K\u001b[10A\u001b[2K\u001b[10A\u001b[2K\u001b[10A\u001b[2K\u001b[10A\u001b[2K\u001b[10A\u001b[2K\u001b[10A\u001b[2K\u001b[10A\u001b[2K\u001b[10A\u001b[2K\u001b[10A\u001b[2K\u001b[10A\u001b[2K\u001b[10A\u001b[2K\u001b[10A\u001b[2K\u001b[10A\u001b[2K\u001b[10A\u001b[2K\u001b[10A\u001b[2K\u001b[10A\u001b[2K\u001b[10A\u001b[2K\u001b[10A\u001b[2K\u001b[10A\u001b[2K\u001b[10A\u001b[2K\u001b[10A\u001b[2K\u001b[10A\u001b[2K\u001b[10A\u001b[2K\u001b[10A\u001b[2K\u001b[10A\u001b[2K\u001b[10A\u001b[2K\u001b[10A\u001b[2K\u001b[10A\u001b[2K\u001b[10A\u001b[2K\u001b[10A\u001b[2K\u001b[10A\u001b[2K\u001b[10A\u001b[2K\u001b[10A\u001b[2K\u001b[10A\u001b[2K\u001b[10A\u001b[2K\u001b[10A\u001b[2K\u001b[10A\u001b[2K\u001b[10A\u001b[2K\u001b[10A\u001b[2K\u001b[10A\u001b[2K\u001b[10A\u001b[2K\u001b[10A\u001b[2K\u001b[10A\u001b[2K\u001b[10A\u001b[2K\u001b[10A\u001b[2K\u001b[10A\u001b[2K\u001b[10A\u001b[2K\u001b[10A\u001b[2K\u001b[10A\u001b[2K\u001b[10A\u001b[2K\u001b[10A\u001b[2K\u001b[10A\u001b[2K\u001b[10A\u001b[2K\u001b[10A\u001b[2K\u001b[10A\u001b[2K\u001b[10A\u001b[2K\u001b[10A\u001b[2K\u001b[10A\u001b[2K\u001b[10A\u001b[2K\u001b[10A\u001b[2K\u001b[10A\u001b[2K\u001b[10A\u001b[2K\u001b[10A\u001b[2K\u001b[10A\u001b[2K\u001b[10A\u001b[2K\u001b[10A\u001b[2K\u001b[10A\u001b[2K\u001b[10A\u001b[2K\u001b[10A\u001b[2K\u001b[10A\u001b[2K\u001b[10A\u001b[2K\u001b[10A\u001b[2K\u001b[10A\u001b[2K\u001b[10A\u001b[2K\u001b[10A\u001b[2K\u001b[10A\u001b[2K\u001b[10A\u001b[2K\u001b[10A\u001b[2K\u001b[10A\u001b[2K\u001b[10A\u001b[2K\u001b[10A\u001b[2K\u001b[10A\u001b[2K\u001b[10A\u001b[2K\u001b[10A\u001b[2K\u001b[10A\u001b[2K\u001b[10A\u001b[2K\u001b[10A\u001b[2K\u001b[10A\u001b[2K\u001b[10A\u001b[2K\u001b[10A\u001b[2K\u001b[10A\u001b[2K\u001b[10A\u001b[2K\u001b[10A\u001b[2K\u001b[10A\u001b[2K\u001b[10A\u001b[2K\u001b[10A\u001b[2K\u001b[10A\u001b[2K\u001b[10A\u001b[2K\u001b[10A\u001b[2K\u001b[10A\u001b[2K\u001b[10A\u001b[2K\u001b[10A\u001b[2K\u001b[10A\u001b[2K\u001b[10A\u001b[2K\u001b[10A\u001b[2K\u001b[10A\u001b[2Klatest: digest: sha256:70073e8963128931a64ee6afc0cb7b5e2dc04ce4e2c12df0cbb7fca34c2835c9 size: 2413\n"
     ]
    }
   ],
   "source": [
    "!docker tag {image_name} {AWS_ACCOUNT_ID}.dkr.ecr.{AWS_REGION}.amazonaws.com/{DASHBOARD_ECR_REPOSITORY}:latest\n",
    "!eval $(aws ecr get-login --no-include-email)\n",
    "!docker push {AWS_ACCOUNT_ID}.dkr.ecr.{AWS_REGION}.amazonaws.com/{DASHBOARD_ECR_REPOSITORY}:latest"
   ]
  },
  {
   "cell_type": "markdown",
   "metadata": {},
   "source": [
    "### Amazon ECS Service Start"
   ]
  },
  {
   "cell_type": "markdown",
   "metadata": {},
   "source": [
    "Our dashboard Docker image is now on Amazon ECR, but the dashboard isn't actually running yet.\n",
    "\n",
    "Amazon ECS is a fully-managed service for running Docker containers. You don't need to provision or manage servers; you just define the task that needs to be run and specify the resources the task needs. Our AWS CloudFormation Stack created a number of Amazon ECS resources for the dashboard: most notably a [Cluster](https://docs.aws.amazon.com/AmazonECS/latest/developerguide/clusters.html), a [Task Definition](https://docs.aws.amazon.com/AmazonECS/latest/developerguide/task_definitions.html) and a [Service](https://docs.aws.amazon.com/AmazonECS/latest/developerguide/ecs_services.html). We can retrieve the necessary identifiers from the environment variables."
   ]
  },
  {
   "cell_type": "code",
   "execution_count": 17,
   "metadata": {},
   "outputs": [],
   "source": [
    "DASHBOARD_ECS_CLUSTER = os.environ['DASHBOARD_ECS_CLUSTER']\n",
    "DASHBOARD_ECR_SERVICE = os.environ['DASHBOARD_ECR_SERVICE']"
   ]
  },
  {
   "cell_type": "markdown",
   "metadata": {},
   "source": [
    "Our example Task Definition states that the dashboard Docker container should be run with a single vCPU and 2GB of memory. Our example Service starts with a desired task count of 0, so while the dashboard is being developed there are no tasks being run on Amazon ECS. When the desired task count is set to 1 or more, the service will try to maintain that number of instances of the task definition simultaneously. When we set the desired task count to 2 (with the command below), the service will start 2 new tasks. Our [Application Load Balancer](https://docs.aws.amazon.com/elasticloadbalancing/latest/application/introduction.html) (ALB) is used to distribute traffic across tasks. When a task fails, the service will deprovision the failing task and provision a replacement."
   ]
  },
  {
   "cell_type": "code",
   "execution_count": 18,
   "metadata": {},
   "outputs": [
    {
     "name": "stdout",
     "output_type": "stream",
     "text": [
      "{\r\n",
      "    \"service\": {\r\n",
      "        \"serviceArn\": \"arn:aws:ecs:ap-southeast-2:571744842822:service/streamlit-dashboard-cfn-resource/streamlit-dashboard-cfn-resource\",\r\n",
      "        \"serviceName\": \"streamlit-dashboard-cfn-resource\",\r\n",
      "        \"clusterArn\": \"arn:aws:ecs:ap-southeast-2:571744842822:cluster/streamlit-dashboard-cfn-resource\",\r\n",
      "        \"loadBalancers\": [\r\n",
      "            {\r\n",
      "                \"targetGroupArn\": \"arn:aws:elasticloadbalancing:ap-southeast-2:571744842822:targetgroup/strea-Defau-GGJOPEKWNT7O/5f2cbb536a905105\",\r\n",
      "                \"containerName\": \"dashboard\",\r\n",
      "                \"containerPort\": 80\r\n",
      "            }\r\n",
      "        ],\r\n",
      "        \"serviceRegistries\": [],\r\n",
      "        \"status\": \"ACTIVE\",\r\n",
      "        \"desiredCount\": 2,\r\n",
      "        \"runningCount\": 0,\r\n",
      "        \"pendingCount\": 0,\r\n",
      "        \"launchType\": \"FARGATE\",\r\n",
      "        \"platformVersion\": \"LATEST\",\r\n",
      "        \"taskDefinition\": \"arn:aws:ecs:ap-southeast-2:571744842822:task-definition/streamlit-dashboard-cfn-resource:2\",\r\n",
      "        \"deploymentConfiguration\": {\r\n",
      "            \"maximumPercent\": 200,\r\n",
      "            \"minimumHealthyPercent\": 100\r\n",
      "        },\r\n",
      "        \"deployments\": [\r\n",
      "            {\r\n",
      "                \"id\": \"ecs-svc/9242040535436505977\",\r\n",
      "                \"status\": \"PRIMARY\",\r\n",
      "                \"taskDefinition\": \"arn:aws:ecs:ap-southeast-2:571744842822:task-definition/streamlit-dashboard-cfn-resource:2\",\r\n",
      "                \"desiredCount\": 2,\r\n",
      "                \"pendingCount\": 0,\r\n",
      "                \"runningCount\": 0,\r\n",
      "                \"createdAt\": 1616903870.505,\r\n",
      "                \"updatedAt\": 1616903878.534,\r\n",
      "                \"launchType\": \"FARGATE\",\r\n",
      "                \"platformVersion\": \"1.4.0\",\r\n",
      "                \"networkConfiguration\": {\r\n",
      "                    \"awsvpcConfiguration\": {\r\n",
      "                        \"subnets\": [\r\n",
      "                            \"subnet-0c45eba358020bb8c\",\r\n",
      "                            \"subnet-08147b0ef6c1ca85d\"\r\n",
      "                        ],\r\n",
      "                        \"securityGroups\": [\r\n",
      "                            \"sg-0b60c2b35657cfd2c\"\r\n",
      "                        ],\r\n",
      "                        \"assignPublicIp\": \"ENABLED\"\r\n",
      "                    }\r\n",
      "                }\r\n",
      "            }\r\n",
      "        ],\r\n",
      "        \"roleArn\": \"arn:aws:iam::571744842822:role/aws-service-role/ecs.amazonaws.com/AWSServiceRoleForECS\",\r\n",
      "        \"events\": [\r\n",
      "            {\r\n",
      "                \"id\": \"01666e03-a4e1-429e-b925-4d92f09880c7\",\r\n",
      "                \"createdAt\": 1616903878.54,\r\n",
      "                \"message\": \"(service streamlit-dashboard-cfn-resource) has reached a steady state.\"\r\n",
      "            },\r\n",
      "            {\r\n",
      "                \"id\": \"27944c15-df54-4cfa-ac98-a1c536263cf8\",\r\n",
      "                \"createdAt\": 1616903878.539,\r\n",
      "                \"message\": \"(service streamlit-dashboard-cfn-resource) (deployment ecs-svc/9242040535436505977) deployment completed.\"\r\n",
      "            }\r\n",
      "        ],\r\n",
      "        \"createdAt\": 1616903870.505,\r\n",
      "        \"placementConstraints\": [],\r\n",
      "        \"placementStrategy\": [],\r\n",
      "        \"networkConfiguration\": {\r\n",
      "            \"awsvpcConfiguration\": {\r\n",
      "                \"subnets\": [\r\n",
      "                    \"subnet-0c45eba358020bb8c\",\r\n",
      "                    \"subnet-08147b0ef6c1ca85d\"\r\n",
      "                ],\r\n",
      "                \"securityGroups\": [\r\n",
      "                    \"sg-0b60c2b35657cfd2c\"\r\n",
      "                ],\r\n",
      "                \"assignPublicIp\": \"ENABLED\"\r\n",
      "            }\r\n",
      "        },\r\n",
      "        \"healthCheckGracePeriodSeconds\": 0,\r\n",
      "        \"schedulingStrategy\": \"REPLICA\",\r\n",
      "        \"createdBy\": \"arn:aws:iam::571744842822:user/learning\",\r\n",
      "        \"enableECSManagedTags\": false,\r\n",
      "        \"propagateTags\": \"NONE\"\r\n",
      "    }\r\n",
      "}\r\n"
     ]
    }
   ],
   "source": [
    "!aws ecs update-service --cluster {DASHBOARD_ECS_CLUSTER} --service {DASHBOARD_ECR_SERVICE} --desired-count 2"
   ]
  },
  {
   "cell_type": "markdown",
   "metadata": {},
   "source": [
    "After running the above command, the new tasks will take a few minutes to provision and be added to the ALB's [Target Group](https://docs.aws.amazon.com/elasticloadbalancing/latest/application/load-balancer-target-groups.html).\n",
    "\n",
    "Meanwhile, we can retrieve the URL that will be used to access the deployed dashboard."
   ]
  },
  {
   "cell_type": "code",
   "execution_count": 19,
   "metadata": {},
   "outputs": [],
   "source": [
    "DASHBOARD_URL = os.environ['DASHBOARD_URL']\n",
    "DASHBOARD_ALB = os.environ['DASHBOARD_ALB']"
   ]
  },
  {
   "cell_type": "markdown",
   "metadata": {},
   "source": [
    "Your next actions will depend on the choices you made when launching the AWS CloudFormation Stack. If you opted to use a custom domain, you will have to add a CNAME record on that domain pointing to the `DASHBOARD_ALB` URL. Otherwise you're permitted to access the `DASHBOARD_ALB` URL directly.\n",
    "\n",
    "**Caution**: You will receive a warning from your browser when accessing the dashboard if you didn't provide a custom SSL certificate when launching the AWS CloudFormation Stack. A self-signed certificate is created and used as a backup but this is certainly not recommended for production use cases. You should obtain an SSL Certificate that has been validated by a certificate authority, import it into [AWS Certificate Manager](https://aws.amazon.com/certificate-manager/) and reference this when launching the AWS CloudFormation Stack. Should you wish to continue with the self-signed certificate (for development purposes), you should be able to proceed past the browser warning page. With Chrome, you will see a 'Your connection is not private' error message ('NET::ERR_CERT_AUTHORITY_INVALID'), but by clicking on 'Advanced' you should then see a link to proceed."
   ]
  },
  {
   "cell_type": "code",
   "execution_count": 20,
   "metadata": {},
   "outputs": [
    {
     "name": "stdout",
     "output_type": "stream",
     "text": [
      "DASHBOARD_URL: https://strea-Appli-FNBCA8P4WFEH-625081434.ap-southeast-2.elb.amazonaws.com\n"
     ]
    }
   ],
   "source": [
    "if DASHBOARD_URL != DASHBOARD_ALB:\n",
    "    warnings.warn('\\n' + '\\n'.join([\n",
    "        \"Add CNAME record on your domain before continuing!\",\n",
    "        \"from: {}\".format(DASHBOARD_URL),\n",
    "        \"to: {}\".format(DASHBOARD_ALB),\n",
    "        \"Otherwise you will see 'An error was encountered with the requested page' with Amazon Cognito.\"\n",
    "    ]))\n",
    "print(f\"DASHBOARD_URL: https://{DASHBOARD_URL}\")"
   ]
  },
  {
   "cell_type": "markdown",
   "metadata": {},
   "source": [
    "When using Amazon Cognito authentication, you will be greeted by a sign-in page.\n",
    "\n",
    "A sample user called `dashboard_user` was created during the AWS CloudFormation Stack creation, and the password will have been sent to the email address you provided during launch. You should look out for an email from no-reply@verificationemail.com with the subject 'New Dashboard Account'.\n",
    "\n",
    "After typing in the temporary password, you will be prompted to enter a new one. You can use this to access the dashboard on other occasions."
   ]
  },
  {
   "cell_type": "markdown",
   "metadata": {},
   "source": [
    "At this stage, you should be able to access the dashboard. Some common issues and potential resolutions are as follows:\n",
    "\n",
    "**503 Service Temporarily Unavailable**\n",
    "\n",
    "You might see this when accessing the dashboard URL, and this is typically an error response from the Application Load Balancer. Make sure you have followed the instructions in the notebook, and waited a few minutes for the Amazon ECS Service to start. You should check your Amazon ECS Tasks if this error message doesn't disappear after 5 minutes of waiting. You should avoid leaving your Amazon ECS Service with the desired task count greater than 0 when tasks are consistently failing, because the Service will keep trying to provision new tasks.\n",
    "\n",
    "**An error was encountered with the requested page.**\n",
    "\n",
    "You might see this if you are using a custom domain (or subdomain). Check that the Callback URL on the Amazon Cognito User Pool Client matches your domain (or subdomain) exactly: even capital letters and forgetting the trailing slash can cause issues here."
   ]
  },
  {
   "cell_type": "markdown",
   "metadata": {},
   "source": [
    "## Clean Up"
   ]
  },
  {
   "cell_type": "markdown",
   "metadata": {},
   "source": [
    "When you've finished with this solution, make sure that you delete all unwanted AWS resources.\n",
    "\n",
    "AWS CloudFormation can be used to automatically delete all standard resources that have been created by the solution and notebooks. Still, we explicitly set the desired task count of our Amazon ECS Service to 0.\n",
    "\n",
    "**Caution**: You need to manually delete any extra resources that you may\n",
    "have created in these notebooks. Some examples include, extra Amazon S3\n",
    "buckets (to the solution's default bucket), any Amazon SageMaker\n",
    "endpoints (using a custom name), and extra Amazon ECR repositories."
   ]
  },
  {
   "cell_type": "code",
   "execution_count": 21,
   "metadata": {},
   "outputs": [
    {
     "name": "stdout",
     "output_type": "stream",
     "text": [
      "{\r\n",
      "    \"service\": {\r\n",
      "        \"serviceArn\": \"arn:aws:ecs:ap-southeast-2:571744842822:service/streamlit-dashboard-cfn-resource/streamlit-dashboard-cfn-resource\",\r\n",
      "        \"serviceName\": \"streamlit-dashboard-cfn-resource\",\r\n",
      "        \"clusterArn\": \"arn:aws:ecs:ap-southeast-2:571744842822:cluster/streamlit-dashboard-cfn-resource\",\r\n",
      "        \"loadBalancers\": [\r\n",
      "            {\r\n",
      "                \"targetGroupArn\": \"arn:aws:elasticloadbalancing:ap-southeast-2:571744842822:targetgroup/strea-Defau-GGJOPEKWNT7O/5f2cbb536a905105\",\r\n",
      "                \"containerName\": \"dashboard\",\r\n",
      "                \"containerPort\": 80\r\n",
      "            }\r\n",
      "        ],\r\n",
      "        \"serviceRegistries\": [],\r\n",
      "        \"status\": \"ACTIVE\",\r\n",
      "        \"desiredCount\": 0,\r\n",
      "        \"runningCount\": 2,\r\n",
      "        \"pendingCount\": 0,\r\n",
      "        \"launchType\": \"FARGATE\",\r\n",
      "        \"platformVersion\": \"LATEST\",\r\n",
      "        \"taskDefinition\": \"arn:aws:ecs:ap-southeast-2:571744842822:task-definition/streamlit-dashboard-cfn-resource:2\",\r\n",
      "        \"deploymentConfiguration\": {\r\n",
      "            \"maximumPercent\": 200,\r\n",
      "            \"minimumHealthyPercent\": 100\r\n",
      "        },\r\n",
      "        \"deployments\": [\r\n",
      "            {\r\n",
      "                \"id\": \"ecs-svc/9242040535436505977\",\r\n",
      "                \"status\": \"PRIMARY\",\r\n",
      "                \"taskDefinition\": \"arn:aws:ecs:ap-southeast-2:571744842822:task-definition/streamlit-dashboard-cfn-resource:2\",\r\n",
      "                \"desiredCount\": 0,\r\n",
      "                \"pendingCount\": 0,\r\n",
      "                \"runningCount\": 2,\r\n",
      "                \"createdAt\": 1616903870.505,\r\n",
      "                \"updatedAt\": 1616909521.335,\r\n",
      "                \"launchType\": \"FARGATE\",\r\n",
      "                \"platformVersion\": \"1.4.0\",\r\n",
      "                \"networkConfiguration\": {\r\n",
      "                    \"awsvpcConfiguration\": {\r\n",
      "                        \"subnets\": [\r\n",
      "                            \"subnet-0c45eba358020bb8c\",\r\n",
      "                            \"subnet-08147b0ef6c1ca85d\"\r\n",
      "                        ],\r\n",
      "                        \"securityGroups\": [\r\n",
      "                            \"sg-0b60c2b35657cfd2c\"\r\n",
      "                        ],\r\n",
      "                        \"assignPublicIp\": \"ENABLED\"\r\n",
      "                    }\r\n",
      "                }\r\n",
      "            }\r\n",
      "        ],\r\n",
      "        \"roleArn\": \"arn:aws:iam::571744842822:role/aws-service-role/ecs.amazonaws.com/AWSServiceRoleForECS\",\r\n",
      "        \"events\": [\r\n",
      "            {\r\n",
      "                \"id\": \"f0a74c2b-653a-4417-ae09-c55c084d9bef\",\r\n",
      "                \"createdAt\": 1616909521.344,\r\n",
      "                \"message\": \"(service streamlit-dashboard-cfn-resource) has reached a steady state.\"\r\n",
      "            },\r\n",
      "            {\r\n",
      "                \"id\": \"5ab91506-cd7f-4495-a4ea-ce979afe7840\",\r\n",
      "                \"createdAt\": 1616909501.079,\r\n",
      "                \"message\": \"(service streamlit-dashboard-cfn-resource) registered 2 targets in (target-group arn:aws:elasticloadbalancing:ap-southeast-2:571744842822:targetgroup/strea-Defau-GGJOPEKWNT7O/5f2cbb536a905105)\"\r\n",
      "            },\r\n",
      "            {\r\n",
      "                \"id\": \"a670906d-cc7b-4c5d-ab7a-39eac3fd990a\",\r\n",
      "                \"createdAt\": 1616909437.847,\r\n",
      "                \"message\": \"(service streamlit-dashboard-cfn-resource) has started 2 tasks: (task a003043f0b2743eeb8b89bb785ee605c) (task d5def04f6db64d95b55fae5d41f052de).\"\r\n",
      "            },\r\n",
      "            {\r\n",
      "                \"id\": \"01666e03-a4e1-429e-b925-4d92f09880c7\",\r\n",
      "                \"createdAt\": 1616903878.54,\r\n",
      "                \"message\": \"(service streamlit-dashboard-cfn-resource) has reached a steady state.\"\r\n",
      "            },\r\n",
      "            {\r\n",
      "                \"id\": \"27944c15-df54-4cfa-ac98-a1c536263cf8\",\r\n",
      "                \"createdAt\": 1616903878.539,\r\n",
      "                \"message\": \"(service streamlit-dashboard-cfn-resource) (deployment ecs-svc/9242040535436505977) deployment completed.\"\r\n",
      "            }\r\n",
      "        ],\r\n",
      "        \"createdAt\": 1616903870.505,\r\n",
      "        \"placementConstraints\": [],\r\n",
      "        \"placementStrategy\": [],\r\n",
      "        \"networkConfiguration\": {\r\n",
      "            \"awsvpcConfiguration\": {\r\n",
      "                \"subnets\": [\r\n",
      "                    \"subnet-0c45eba358020bb8c\",\r\n",
      "                    \"subnet-08147b0ef6c1ca85d\"\r\n",
      "                ],\r\n",
      "                \"securityGroups\": [\r\n",
      "                    \"sg-0b60c2b35657cfd2c\"\r\n",
      "                ],\r\n",
      "                \"assignPublicIp\": \"ENABLED\"\r\n",
      "            }\r\n",
      "        },\r\n",
      "        \"healthCheckGracePeriodSeconds\": 0,\r\n",
      "        \"schedulingStrategy\": \"REPLICA\",\r\n",
      "        \"createdBy\": \"arn:aws:iam::571744842822:user/learning\",\r\n",
      "        \"enableECSManagedTags\": false,\r\n",
      "        \"propagateTags\": \"NONE\"\r\n",
      "    }\r\n",
      "}\r\n"
     ]
    }
   ],
   "source": [
    "!aws ecs update-service --cluster {DASHBOARD_ECS_CLUSTER} --service {DASHBOARD_ECR_SERVICE} --desired-count 0"
   ]
  },
  {
   "cell_type": "markdown",
   "metadata": {},
   "source": [
    "You can now return to AWS CloudFormation and delete the stack."
   ]
  },
  {
   "cell_type": "code",
   "execution_count": null,
   "metadata": {},
   "outputs": [],
   "source": []
  }
 ],
 "metadata": {
  "kernelspec": {
   "display_name": "conda_dashboard",
   "language": "python",
   "name": "conda_dashboard"
  },
  "language_info": {
   "codemirror_mode": {
    "name": "ipython",
    "version": 3
   },
   "file_extension": ".py",
   "mimetype": "text/x-python",
   "name": "python",
   "nbconvert_exporter": "python",
   "pygments_lexer": "ipython3",
   "version": "3.6.13"
  }
 },
 "nbformat": 4,
 "nbformat_minor": 4
}